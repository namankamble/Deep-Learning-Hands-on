{
 "cells": [
  {
   "cell_type": "markdown",
   "id": "37eb7f9f-00b8-4793-8105-87d0458dd079",
   "metadata": {},
   "source": [
    "***\n",
    "# <center>**Implementing MLPs with Keras**\n",
    "***"
   ]
  },
  {
   "cell_type": "markdown",
   "id": "6143c3ec-196f-4f13-a947-5d6011503a59",
   "metadata": {},
   "source": [
    "**Keras** is a high-level Deep Learning API that allows you to easily build, train, evaluate and execute all sorts of neural networks.\n",
    "It was developed by **François Chollet** as part of a research project and released as an open source project in March 2015. It quicklygained popularity owing to its ease-of-use, flexibility and beautiful design. To perform the heavy computations required by neural networks, keras-team relies on a computation backend. Moreover, since late 2016, other implementations have been released. "
   ]
  },
  {
   "cell_type": "markdown",
   "id": "1a124b90-b11c-4537-8efd-51868cb8d00f",
   "metadata": {},
   "source": [
    "#### ***Import **TensorFlow** and **tf.keras**, and print their versions:***"
   ]
  },
  {
   "cell_type": "code",
   "execution_count": 1,
   "id": "96de1cb0-3f19-4b9d-964a-94f4dc681f83",
   "metadata": {},
   "outputs": [
    {
     "data": {
      "text/plain": [
       "'2.18.0'"
      ]
     },
     "execution_count": 1,
     "metadata": {},
     "output_type": "execute_result"
    }
   ],
   "source": [
    "\n",
    "import tensorflow as tf\n",
    "from tensorflow import keras\n",
    "tf.__version__\n"
   ]
  },
  {
   "cell_type": "code",
   "execution_count": 2,
   "id": "c0eea44f-d553-4f19-86d3-541ee48bb792",
   "metadata": {},
   "outputs": [
    {
     "data": {
      "text/plain": [
       "'3.7.0'"
      ]
     },
     "execution_count": 2,
     "metadata": {},
     "output_type": "execute_result"
    }
   ],
   "source": [
    "\n",
    "keras.__version__\n"
   ]
  },
  {
   "cell_type": "markdown",
   "id": "a3726ef3-2960-45e9-b564-f147d900bdda",
   "metadata": {},
   "source": [
    "#### ***Let’s start by building a simple image classifier:****"
   ]
  },
  {
   "cell_type": "markdown",
   "id": "234dc587-9710-46d8-872b-38668fc7f52e",
   "metadata": {},
   "source": [
    "**Keras** provides some utility functions to fetch and load common datasets, including MNIST, Fashion MNIST, the original California housing dataset, and more. Let’s load Fashion MNIST for practice:"
   ]
  },
  {
   "cell_type": "code",
   "execution_count": 3,
   "id": "d3ea1b55-4a77-49ff-a915-ef551a24f1d6",
   "metadata": {},
   "outputs": [],
   "source": [
    "\n",
    "fashion_mnist = keras.datasets.fashion_mnist\n",
    "(x_train, y_train), (x_test, y_test) = fashion_mnist.load_data()\n"
   ]
  },
  {
   "cell_type": "code",
   "execution_count": 4,
   "id": "7aa7f164-9d9e-4c96-a209-2bf008cb2e13",
   "metadata": {},
   "outputs": [
    {
     "data": {
      "text/plain": [
       "(60000, 28, 28)"
      ]
     },
     "execution_count": 4,
     "metadata": {},
     "output_type": "execute_result"
    }
   ],
   "source": [
    "\n",
    "x_train.shape\n"
   ]
  },
  {
   "cell_type": "code",
   "execution_count": 5,
   "id": "4c982669-7b7d-4252-bbd6-2ea0213ae89e",
   "metadata": {},
   "outputs": [
    {
     "data": {
      "text/plain": [
       "dtype('uint8')"
      ]
     },
     "execution_count": 5,
     "metadata": {},
     "output_type": "execute_result"
    }
   ],
   "source": [
    "\n",
    "x_train.dtype\n"
   ]
  },
  {
   "cell_type": "code",
   "execution_count": 6,
   "id": "90e2a806-c9f8-4a01-a9df-8171bb31cd8f",
   "metadata": {},
   "outputs": [
    {
     "data": {
      "text/plain": [
       "(60000,)"
      ]
     },
     "execution_count": 6,
     "metadata": {},
     "output_type": "execute_result"
    }
   ],
   "source": [
    "\n",
    "y_train.shape\n"
   ]
  },
  {
   "cell_type": "markdown",
   "id": "fe2e7c2d-cae1-4f0e-bff8-c820f90f64ab",
   "metadata": {},
   "source": [
    "\n",
    "Note that the dataset is already split into a training set and a test set, but there is no validation set, so let’s create one.\n",
    "\n",
    "since we are going to train the neural network using Gradient Descent, we must scale the input features. For simplicity, we just\n",
    " scale the pixel intensities down to the 0-1 range by dividing them by 255.0 (this also converts them to floats):"
   ]
  },
  {
   "cell_type": "code",
   "execution_count": 7,
   "id": "87c528c3-15ad-44f5-b10f-1cc4f94b020c",
   "metadata": {},
   "outputs": [],
   "source": [
    "\n",
    "x_test, x_train = x_train[:5000] / 255.0, x_train[5000:] / 255.0\n",
    "y_test, y_train = y_train[:5000], y_train[5000:]\n"
   ]
  },
  {
   "cell_type": "markdown",
   "id": "e797c777-c0c1-4dd3-84dd-53613cea5f31",
   "metadata": {},
   "source": [
    "With MNIST, when the label is equal to 5, it means that the image represents the handwritten digit 5. However, for Fashion MNIST, we need the list of class names to know what we are dealing with:"
   ]
  },
  {
   "cell_type": "code",
   "execution_count": 8,
   "id": "f85113bf-93ca-4a45-9be9-fed13da5b941",
   "metadata": {},
   "outputs": [],
   "source": [
    "\n",
    "class_names = [\"T-shirt/top\", \"Trouser\", \"Pullover\", \"Dress\", \"Coat\", \"Sandal\", \"Shirt\", \"Sneaker\", \"Bag\", \"Ankle boot\"]\n"
   ]
  },
  {
   "cell_type": "code",
   "execution_count": 9,
   "id": "943f2c8b-1270-4711-8eaf-0029bdb64a98",
   "metadata": {},
   "outputs": [
    {
     "data": {
      "text/plain": [
       "'Coat'"
      ]
     },
     "execution_count": 9,
     "metadata": {},
     "output_type": "execute_result"
    }
   ],
   "source": [
    "\n",
    "class_names[y_train[0]]\n"
   ]
  },
  {
   "cell_type": "markdown",
   "id": "cd53d4b1-2961-4dad-a2a1-4a757a180fdb",
   "metadata": {},
   "source": [
    "#### ***Creating the Model Using the Sequential API:***"
   ]
  },
  {
   "cell_type": "code",
   "execution_count": 10,
   "id": "9a943566-9acb-4f2f-b170-deb6d724b8c0",
   "metadata": {},
   "outputs": [
    {
     "name": "stderr",
     "output_type": "stream",
     "text": [
      "C:\\Users\\DELL\\AppData\\Roaming\\Python\\Python311\\site-packages\\keras\\src\\layers\\reshaping\\flatten.py:37: UserWarning: Do not pass an `input_shape`/`input_dim` argument to a layer. When using Sequential models, prefer using an `Input(shape)` object as the first layer in the model instead.\n",
      "  super().__init__(**kwargs)\n"
     ]
    }
   ],
   "source": [
    "\n",
    "model = keras.models.Sequential()\n",
    "model.add(keras.layers.Flatten(input_shape=[28, 28]))\n",
    "model.add(keras.layers.Dense(300, activation=\"relu\"))\n",
    "model.add(keras.layers.Dense(100, activation=\"relu\"))\n",
    "model.add(keras.layers.Dense(10, activation=\"softmax\"))\n"
   ]
  },
  {
   "cell_type": "markdown",
   "id": "b2e1a80e-ff60-45b0-a372-a898e6f85f65",
   "metadata": {},
   "source": [
    "**Code Explanation:**\n",
    "- The first line creates a `Sequential` model. This is the simplest kind of Keras model, for neural networks that are just composed of a single stack of layers, connected sequentially. This is called the sequential API.\n",
    "-  Then, we build the `first layer` and add it to the **model**. It is a `Flatten layer` whose role is simply to convert each input image into a 1D array, if it receives input data X, it computes X.reshape(-1, 1). This layer does not have any parameters, it is just there to do some simple preprocessing. Since it is the first layer in the model, you should specify the input_shape, this does not include the batch size, only the shape of the instances.\n",
    "-  Then we add a `Dense hidden layer` with 300 neurons. It will use the `ReLU activation function`. Each Dense layer manages its own weight matrix, containing all the connection weights between the neurons and their inputs. It also manages a vector of bias terms (one per neuron).\n",
    "-  Then we add a `second Dense hidden layer` with 100 neurons, also using the **ReLU activation function**.\n",
    "- Finally, we add a `Dense output layer` with 10 neurons (one per class), using the `softmax activation function` (because the classes are exclusive)."
   ]
  },
  {
   "cell_type": "markdown",
   "id": "55c7f7b1-a35f-47ad-bf98-138b4d532581",
   "metadata": {},
   "source": [
    "Instead of adding the layers one by one as we just did, you can pass a list of layers when creating the Sequential model:"
   ]
  },
  {
   "cell_type": "code",
   "execution_count": 11,
   "id": "4327c34a-d3b2-4139-8ae5-422be4388394",
   "metadata": {},
   "outputs": [],
   "source": [
    "\n",
    "model_2 = keras.models.Sequential([\n",
    "    keras.layers.Flatten(input_shape=[x_train.shape[1], x_train.shape[2]]),\n",
    "    keras.layers.Dense(300, activation=\"relu\"),\n",
    "    keras.layers.Dense(100, activation=\"relu\"),\n",
    "    keras.layers.Dense(10, activation=\"softmax\")\n",
    " ])\n"
   ]
  },
  {
   "cell_type": "markdown",
   "id": "c36065a7-585b-4fbe-a09e-396b4d363071",
   "metadata": {},
   "source": [
    "The model’s `summary()` method displays all the model’s layers, including each layer’s name (which is automatically generated unless you set it when creating the layer), its output shape (None means the batch size can be anything), and its number of parameters. The summary ends with the total number of parameters, including trainable and non-trainable parameters."
   ]
  },
  {
   "cell_type": "code",
   "execution_count": 12,
   "id": "936c546f-6b5b-4f9f-8fb6-e3090213ddec",
   "metadata": {},
   "outputs": [
    {
     "data": {
      "text/html": [
       "<pre style=\"white-space:pre;overflow-x:auto;line-height:normal;font-family:Menlo,'DejaVu Sans Mono',consolas,'Courier New',monospace\"><span style=\"font-weight: bold\">Model: \"sequential\"</span>\n",
       "</pre>\n"
      ],
      "text/plain": [
       "\u001b[1mModel: \"sequential\"\u001b[0m\n"
      ]
     },
     "metadata": {},
     "output_type": "display_data"
    },
    {
     "data": {
      "text/html": [
       "<pre style=\"white-space:pre;overflow-x:auto;line-height:normal;font-family:Menlo,'DejaVu Sans Mono',consolas,'Courier New',monospace\">┏━━━━━━━━━━━━━━━━━━━━━━━━━━━━━━━━━━━━━━┳━━━━━━━━━━━━━━━━━━━━━━━━━━━━━┳━━━━━━━━━━━━━━━━━┓\n",
       "┃<span style=\"font-weight: bold\"> Layer (type)                         </span>┃<span style=\"font-weight: bold\"> Output Shape                </span>┃<span style=\"font-weight: bold\">         Param # </span>┃\n",
       "┡━━━━━━━━━━━━━━━━━━━━━━━━━━━━━━━━━━━━━━╇━━━━━━━━━━━━━━━━━━━━━━━━━━━━━╇━━━━━━━━━━━━━━━━━┩\n",
       "│ flatten (<span style=\"color: #0087ff; text-decoration-color: #0087ff\">Flatten</span>)                    │ (<span style=\"color: #00d7ff; text-decoration-color: #00d7ff\">None</span>, <span style=\"color: #00af00; text-decoration-color: #00af00\">784</span>)                 │               <span style=\"color: #00af00; text-decoration-color: #00af00\">0</span> │\n",
       "├──────────────────────────────────────┼─────────────────────────────┼─────────────────┤\n",
       "│ dense (<span style=\"color: #0087ff; text-decoration-color: #0087ff\">Dense</span>)                        │ (<span style=\"color: #00d7ff; text-decoration-color: #00d7ff\">None</span>, <span style=\"color: #00af00; text-decoration-color: #00af00\">300</span>)                 │         <span style=\"color: #00af00; text-decoration-color: #00af00\">235,500</span> │\n",
       "├──────────────────────────────────────┼─────────────────────────────┼─────────────────┤\n",
       "│ dense_1 (<span style=\"color: #0087ff; text-decoration-color: #0087ff\">Dense</span>)                      │ (<span style=\"color: #00d7ff; text-decoration-color: #00d7ff\">None</span>, <span style=\"color: #00af00; text-decoration-color: #00af00\">100</span>)                 │          <span style=\"color: #00af00; text-decoration-color: #00af00\">30,100</span> │\n",
       "├──────────────────────────────────────┼─────────────────────────────┼─────────────────┤\n",
       "│ dense_2 (<span style=\"color: #0087ff; text-decoration-color: #0087ff\">Dense</span>)                      │ (<span style=\"color: #00d7ff; text-decoration-color: #00d7ff\">None</span>, <span style=\"color: #00af00; text-decoration-color: #00af00\">10</span>)                  │           <span style=\"color: #00af00; text-decoration-color: #00af00\">1,010</span> │\n",
       "└──────────────────────────────────────┴─────────────────────────────┴─────────────────┘\n",
       "</pre>\n"
      ],
      "text/plain": [
       "┏━━━━━━━━━━━━━━━━━━━━━━━━━━━━━━━━━━━━━━┳━━━━━━━━━━━━━━━━━━━━━━━━━━━━━┳━━━━━━━━━━━━━━━━━┓\n",
       "┃\u001b[1m \u001b[0m\u001b[1mLayer (type)                        \u001b[0m\u001b[1m \u001b[0m┃\u001b[1m \u001b[0m\u001b[1mOutput Shape               \u001b[0m\u001b[1m \u001b[0m┃\u001b[1m \u001b[0m\u001b[1m        Param #\u001b[0m\u001b[1m \u001b[0m┃\n",
       "┡━━━━━━━━━━━━━━━━━━━━━━━━━━━━━━━━━━━━━━╇━━━━━━━━━━━━━━━━━━━━━━━━━━━━━╇━━━━━━━━━━━━━━━━━┩\n",
       "│ flatten (\u001b[38;5;33mFlatten\u001b[0m)                    │ (\u001b[38;5;45mNone\u001b[0m, \u001b[38;5;34m784\u001b[0m)                 │               \u001b[38;5;34m0\u001b[0m │\n",
       "├──────────────────────────────────────┼─────────────────────────────┼─────────────────┤\n",
       "│ dense (\u001b[38;5;33mDense\u001b[0m)                        │ (\u001b[38;5;45mNone\u001b[0m, \u001b[38;5;34m300\u001b[0m)                 │         \u001b[38;5;34m235,500\u001b[0m │\n",
       "├──────────────────────────────────────┼─────────────────────────────┼─────────────────┤\n",
       "│ dense_1 (\u001b[38;5;33mDense\u001b[0m)                      │ (\u001b[38;5;45mNone\u001b[0m, \u001b[38;5;34m100\u001b[0m)                 │          \u001b[38;5;34m30,100\u001b[0m │\n",
       "├──────────────────────────────────────┼─────────────────────────────┼─────────────────┤\n",
       "│ dense_2 (\u001b[38;5;33mDense\u001b[0m)                      │ (\u001b[38;5;45mNone\u001b[0m, \u001b[38;5;34m10\u001b[0m)                  │           \u001b[38;5;34m1,010\u001b[0m │\n",
       "└──────────────────────────────────────┴─────────────────────────────┴─────────────────┘\n"
      ]
     },
     "metadata": {},
     "output_type": "display_data"
    },
    {
     "data": {
      "text/html": [
       "<pre style=\"white-space:pre;overflow-x:auto;line-height:normal;font-family:Menlo,'DejaVu Sans Mono',consolas,'Courier New',monospace\"><span style=\"font-weight: bold\"> Total params: </span><span style=\"color: #00af00; text-decoration-color: #00af00\">266,610</span> (1.02 MB)\n",
       "</pre>\n"
      ],
      "text/plain": [
       "\u001b[1m Total params: \u001b[0m\u001b[38;5;34m266,610\u001b[0m (1.02 MB)\n"
      ]
     },
     "metadata": {},
     "output_type": "display_data"
    },
    {
     "data": {
      "text/html": [
       "<pre style=\"white-space:pre;overflow-x:auto;line-height:normal;font-family:Menlo,'DejaVu Sans Mono',consolas,'Courier New',monospace\"><span style=\"font-weight: bold\"> Trainable params: </span><span style=\"color: #00af00; text-decoration-color: #00af00\">266,610</span> (1.02 MB)\n",
       "</pre>\n"
      ],
      "text/plain": [
       "\u001b[1m Trainable params: \u001b[0m\u001b[38;5;34m266,610\u001b[0m (1.02 MB)\n"
      ]
     },
     "metadata": {},
     "output_type": "display_data"
    },
    {
     "data": {
      "text/html": [
       "<pre style=\"white-space:pre;overflow-x:auto;line-height:normal;font-family:Menlo,'DejaVu Sans Mono',consolas,'Courier New',monospace\"><span style=\"font-weight: bold\"> Non-trainable params: </span><span style=\"color: #00af00; text-decoration-color: #00af00\">0</span> (0.00 B)\n",
       "</pre>\n"
      ],
      "text/plain": [
       "\u001b[1m Non-trainable params: \u001b[0m\u001b[38;5;34m0\u001b[0m (0.00 B)\n"
      ]
     },
     "metadata": {},
     "output_type": "display_data"
    }
   ],
   "source": [
    "\n",
    "model.summary()\n"
   ]
  },
  {
   "cell_type": "code",
   "execution_count": 13,
   "id": "9ea69110-9485-45d3-b6a7-c0361a2ee66e",
   "metadata": {},
   "outputs": [
    {
     "data": {
      "text/html": [
       "<pre style=\"white-space:pre;overflow-x:auto;line-height:normal;font-family:Menlo,'DejaVu Sans Mono',consolas,'Courier New',monospace\"><span style=\"font-weight: bold\">Model: \"sequential_1\"</span>\n",
       "</pre>\n"
      ],
      "text/plain": [
       "\u001b[1mModel: \"sequential_1\"\u001b[0m\n"
      ]
     },
     "metadata": {},
     "output_type": "display_data"
    },
    {
     "data": {
      "text/html": [
       "<pre style=\"white-space:pre;overflow-x:auto;line-height:normal;font-family:Menlo,'DejaVu Sans Mono',consolas,'Courier New',monospace\">┏━━━━━━━━━━━━━━━━━━━━━━━━━━━━━━━━━━━━━━┳━━━━━━━━━━━━━━━━━━━━━━━━━━━━━┳━━━━━━━━━━━━━━━━━┓\n",
       "┃<span style=\"font-weight: bold\"> Layer (type)                         </span>┃<span style=\"font-weight: bold\"> Output Shape                </span>┃<span style=\"font-weight: bold\">         Param # </span>┃\n",
       "┡━━━━━━━━━━━━━━━━━━━━━━━━━━━━━━━━━━━━━━╇━━━━━━━━━━━━━━━━━━━━━━━━━━━━━╇━━━━━━━━━━━━━━━━━┩\n",
       "│ flatten_1 (<span style=\"color: #0087ff; text-decoration-color: #0087ff\">Flatten</span>)                  │ (<span style=\"color: #00d7ff; text-decoration-color: #00d7ff\">None</span>, <span style=\"color: #00af00; text-decoration-color: #00af00\">784</span>)                 │               <span style=\"color: #00af00; text-decoration-color: #00af00\">0</span> │\n",
       "├──────────────────────────────────────┼─────────────────────────────┼─────────────────┤\n",
       "│ dense_3 (<span style=\"color: #0087ff; text-decoration-color: #0087ff\">Dense</span>)                      │ (<span style=\"color: #00d7ff; text-decoration-color: #00d7ff\">None</span>, <span style=\"color: #00af00; text-decoration-color: #00af00\">300</span>)                 │         <span style=\"color: #00af00; text-decoration-color: #00af00\">235,500</span> │\n",
       "├──────────────────────────────────────┼─────────────────────────────┼─────────────────┤\n",
       "│ dense_4 (<span style=\"color: #0087ff; text-decoration-color: #0087ff\">Dense</span>)                      │ (<span style=\"color: #00d7ff; text-decoration-color: #00d7ff\">None</span>, <span style=\"color: #00af00; text-decoration-color: #00af00\">100</span>)                 │          <span style=\"color: #00af00; text-decoration-color: #00af00\">30,100</span> │\n",
       "├──────────────────────────────────────┼─────────────────────────────┼─────────────────┤\n",
       "│ dense_5 (<span style=\"color: #0087ff; text-decoration-color: #0087ff\">Dense</span>)                      │ (<span style=\"color: #00d7ff; text-decoration-color: #00d7ff\">None</span>, <span style=\"color: #00af00; text-decoration-color: #00af00\">10</span>)                  │           <span style=\"color: #00af00; text-decoration-color: #00af00\">1,010</span> │\n",
       "└──────────────────────────────────────┴─────────────────────────────┴─────────────────┘\n",
       "</pre>\n"
      ],
      "text/plain": [
       "┏━━━━━━━━━━━━━━━━━━━━━━━━━━━━━━━━━━━━━━┳━━━━━━━━━━━━━━━━━━━━━━━━━━━━━┳━━━━━━━━━━━━━━━━━┓\n",
       "┃\u001b[1m \u001b[0m\u001b[1mLayer (type)                        \u001b[0m\u001b[1m \u001b[0m┃\u001b[1m \u001b[0m\u001b[1mOutput Shape               \u001b[0m\u001b[1m \u001b[0m┃\u001b[1m \u001b[0m\u001b[1m        Param #\u001b[0m\u001b[1m \u001b[0m┃\n",
       "┡━━━━━━━━━━━━━━━━━━━━━━━━━━━━━━━━━━━━━━╇━━━━━━━━━━━━━━━━━━━━━━━━━━━━━╇━━━━━━━━━━━━━━━━━┩\n",
       "│ flatten_1 (\u001b[38;5;33mFlatten\u001b[0m)                  │ (\u001b[38;5;45mNone\u001b[0m, \u001b[38;5;34m784\u001b[0m)                 │               \u001b[38;5;34m0\u001b[0m │\n",
       "├──────────────────────────────────────┼─────────────────────────────┼─────────────────┤\n",
       "│ dense_3 (\u001b[38;5;33mDense\u001b[0m)                      │ (\u001b[38;5;45mNone\u001b[0m, \u001b[38;5;34m300\u001b[0m)                 │         \u001b[38;5;34m235,500\u001b[0m │\n",
       "├──────────────────────────────────────┼─────────────────────────────┼─────────────────┤\n",
       "│ dense_4 (\u001b[38;5;33mDense\u001b[0m)                      │ (\u001b[38;5;45mNone\u001b[0m, \u001b[38;5;34m100\u001b[0m)                 │          \u001b[38;5;34m30,100\u001b[0m │\n",
       "├──────────────────────────────────────┼─────────────────────────────┼─────────────────┤\n",
       "│ dense_5 (\u001b[38;5;33mDense\u001b[0m)                      │ (\u001b[38;5;45mNone\u001b[0m, \u001b[38;5;34m10\u001b[0m)                  │           \u001b[38;5;34m1,010\u001b[0m │\n",
       "└──────────────────────────────────────┴─────────────────────────────┴─────────────────┘\n"
      ]
     },
     "metadata": {},
     "output_type": "display_data"
    },
    {
     "data": {
      "text/html": [
       "<pre style=\"white-space:pre;overflow-x:auto;line-height:normal;font-family:Menlo,'DejaVu Sans Mono',consolas,'Courier New',monospace\"><span style=\"font-weight: bold\"> Total params: </span><span style=\"color: #00af00; text-decoration-color: #00af00\">266,610</span> (1.02 MB)\n",
       "</pre>\n"
      ],
      "text/plain": [
       "\u001b[1m Total params: \u001b[0m\u001b[38;5;34m266,610\u001b[0m (1.02 MB)\n"
      ]
     },
     "metadata": {},
     "output_type": "display_data"
    },
    {
     "data": {
      "text/html": [
       "<pre style=\"white-space:pre;overflow-x:auto;line-height:normal;font-family:Menlo,'DejaVu Sans Mono',consolas,'Courier New',monospace\"><span style=\"font-weight: bold\"> Trainable params: </span><span style=\"color: #00af00; text-decoration-color: #00af00\">266,610</span> (1.02 MB)\n",
       "</pre>\n"
      ],
      "text/plain": [
       "\u001b[1m Trainable params: \u001b[0m\u001b[38;5;34m266,610\u001b[0m (1.02 MB)\n"
      ]
     },
     "metadata": {},
     "output_type": "display_data"
    },
    {
     "data": {
      "text/html": [
       "<pre style=\"white-space:pre;overflow-x:auto;line-height:normal;font-family:Menlo,'DejaVu Sans Mono',consolas,'Courier New',monospace\"><span style=\"font-weight: bold\"> Non-trainable params: </span><span style=\"color: #00af00; text-decoration-color: #00af00\">0</span> (0.00 B)\n",
       "</pre>\n"
      ],
      "text/plain": [
       "\u001b[1m Non-trainable params: \u001b[0m\u001b[38;5;34m0\u001b[0m (0.00 B)\n"
      ]
     },
     "metadata": {},
     "output_type": "display_data"
    }
   ],
   "source": [
    "\n",
    "model_2.summary()\n"
   ]
  },
  {
   "cell_type": "markdown",
   "id": "e76fd2d2-236f-455a-8dcb-d9f6226b0ad4",
   "metadata": {},
   "source": [
    "Note that **Dense layers** often have a lot of parameters. For example, the first hidden layer has 784 × 300 connection weights, plus 300 bias terms, which adds up to 235,500 parameters! This gives the model quite a lot of flexibility to fit the training data, but it also means that the model runs the risk of overfitting, especially when you do not have a lot of training data.\n",
    "\n",
    "**You can easily get a model’s list of layers, to fetch a layer by its index, or you can fetch it by name:**"
   ]
  },
  {
   "cell_type": "code",
   "execution_count": 14,
   "id": "2c47e0c3-6f03-48a5-a5ca-02ab3a436aa0",
   "metadata": {},
   "outputs": [
    {
     "data": {
      "text/plain": [
       "[<Flatten name=flatten, built=True>,\n",
       " <Dense name=dense, built=True>,\n",
       " <Dense name=dense_1, built=True>,\n",
       " <Dense name=dense_2, built=True>]"
      ]
     },
     "execution_count": 14,
     "metadata": {},
     "output_type": "execute_result"
    }
   ],
   "source": [
    "\n",
    "model.layers\n"
   ]
  },
  {
   "cell_type": "code",
   "execution_count": 15,
   "id": "91a77e6f-2d67-4822-a7d1-eaf027b29c4e",
   "metadata": {},
   "outputs": [
    {
     "data": {
      "text/plain": [
       "'dense'"
      ]
     },
     "execution_count": 15,
     "metadata": {},
     "output_type": "execute_result"
    }
   ],
   "source": [
    "\n",
    "model.layers[1].name\n"
   ]
  },
  {
   "cell_type": "code",
   "execution_count": 16,
   "id": "d8ae4450-2f93-4f9f-8a1f-ad90b090e44e",
   "metadata": {},
   "outputs": [
    {
     "data": {
      "text/plain": [
       "'dense_2'"
      ]
     },
     "execution_count": 16,
     "metadata": {},
     "output_type": "execute_result"
    }
   ],
   "source": [
    "\n",
    "model.get_layer('dense_2').name\n"
   ]
  },
  {
   "cell_type": "markdown",
   "id": "6b9cdaa4-ca45-40df-a93a-3187aa1a3bd0",
   "metadata": {},
   "source": [
    "#### **Compiling the Model:**\n",
    "After a model is created, you must call its `compile()` method to specify the loss function and the optimizer to use."
   ]
  },
  {
   "cell_type": "code",
   "execution_count": 17,
   "id": "e7d7dd3b-9259-4e16-b62d-a47964a5c36f",
   "metadata": {},
   "outputs": [],
   "source": [
    "\n",
    "model.compile(\n",
    "    loss=\"sparse_categorical_crossentropy\",\n",
    "    optimizer=\"sgd\",\n",
    "    metrics=[\"accuracy\"]\n",
    ")\n"
   ]
  },
  {
   "cell_type": "markdown",
   "id": "d211a837-1ae7-4db1-87be-6b25b7fb4369",
   "metadata": {},
   "source": [
    "- First, we use the `sparse_categorical_crossen tropy` loss because we have sparse labels (i.e., for each instance there is just a target class index, from 0 to 9 in this case), and the classes are exclusive. If instead we had one target probability per class for each instance (such as one-hot vectors, e.g. [0., 0., 0., 1., 0., 0., 0., 0., 0., 0.] to represent class 3), then we would need to use the `categorical_crossentropy loss` instead. If we were doing binary classification (with one or more binary labels), then we would use the `sigmoid` (i.e., logistic) activation function in the output layer instead of the `softmax activation function`, and we would use the `binary_crossentropy loss`.\n",
    "- Secondly, regarding the optimizer, `sgd` simply means that we will train the model using simple Stochastic Gradient Descent. In other words, Keras will perform the **backpropagation algorithm** described earlier (i.e., reverse-mode autodiff + Gradient Descent).\n",
    "- Finally, since this is a classifier, it’s useful to measure its `accuracy` during training and evaluation."
   ]
  },
  {
   "cell_type": "markdown",
   "id": "04a1574b-25f6-46b0-a4f0-8d6cf3e81981",
   "metadata": {},
   "source": [
    "#### ***Now the model is ready to be trained. For this we simply need to call its fit():***\n",
    " method. We pass it the input features (X_train) and the target classes (y_train), as\n",
    " well as the number of epochs to train (or else it would default to just 1, which would\n",
    " definitely not be enough to converge to a good solution). We also pass a validation set\n",
    " (this is optional): Keras will measure the loss and the extra metrics on this set at the\n",
    " end of each epoch, which is very useful to see how well the model really performs: if\n",
    " the performance on the training set is much better than on the validation set, your*Training and Evaluating the Model:**"
   ]
  },
  {
   "cell_type": "markdown",
   "id": "563ef9e4-9b5b-4a28-b63d-9174a2287998",
   "metadata": {},
   "source": [
    "Now the model is ready to be trained. For this we simply need to call its `fit()` method. We pass it the input features (x_train) and the target classes (y_train), as well as the number of epochs to train (or else it would default to just 1, which would definitely not be enough to converge to a good solution). We also pass a validation set (this is optional), Keras will measure the loss and the extra metrics on this set at the end of each epoch, which is very useful to see how well the model really performs, if the performance on the training set is much better than on the validation set, your model is probably overfitting the training set (or there is a bug, such as a data mismatch between the training set and the validation set):"
   ]
  },
  {
   "cell_type": "code",
   "execution_count": 18,
   "id": "356a088b-7f6b-4e48-af5f-5baa4542c8d6",
   "metadata": {},
   "outputs": [
    {
     "name": "stdout",
     "output_type": "stream",
     "text": [
      "Epoch 1/30\n",
      "\u001b[1m1719/1719\u001b[0m \u001b[32m━━━━━━━━━━━━━━━━━━━━\u001b[0m\u001b[37m\u001b[0m \u001b[1m13s\u001b[0m 7ms/step - accuracy: 0.6871 - loss: 0.9904 - val_accuracy: 0.8282 - val_loss: 0.5128\n",
      "Epoch 2/30\n",
      "\u001b[1m1719/1719\u001b[0m \u001b[32m━━━━━━━━━━━━━━━━━━━━\u001b[0m\u001b[37m\u001b[0m \u001b[1m11s\u001b[0m 6ms/step - accuracy: 0.8253 - loss: 0.5027 - val_accuracy: 0.8354 - val_loss: 0.4777\n",
      "Epoch 3/30\n",
      "\u001b[1m1719/1719\u001b[0m \u001b[32m━━━━━━━━━━━━━━━━━━━━\u001b[0m\u001b[37m\u001b[0m \u001b[1m12s\u001b[0m 7ms/step - accuracy: 0.8418 - loss: 0.4545 - val_accuracy: 0.8556 - val_loss: 0.4254\n",
      "Epoch 4/30\n",
      "\u001b[1m1719/1719\u001b[0m \u001b[32m━━━━━━━━━━━━━━━━━━━━\u001b[0m\u001b[37m\u001b[0m \u001b[1m12s\u001b[0m 7ms/step - accuracy: 0.8532 - loss: 0.4181 - val_accuracy: 0.8380 - val_loss: 0.4348\n",
      "Epoch 5/30\n",
      "\u001b[1m1719/1719\u001b[0m \u001b[32m━━━━━━━━━━━━━━━━━━━━\u001b[0m\u001b[37m\u001b[0m \u001b[1m12s\u001b[0m 7ms/step - accuracy: 0.8587 - loss: 0.4064 - val_accuracy: 0.8658 - val_loss: 0.3886\n",
      "Epoch 6/30\n",
      "\u001b[1m1719/1719\u001b[0m \u001b[32m━━━━━━━━━━━━━━━━━━━━\u001b[0m\u001b[37m\u001b[0m \u001b[1m11s\u001b[0m 6ms/step - accuracy: 0.8601 - loss: 0.3913 - val_accuracy: 0.8704 - val_loss: 0.3736\n",
      "Epoch 7/30\n",
      "\u001b[1m1719/1719\u001b[0m \u001b[32m━━━━━━━━━━━━━━━━━━━━\u001b[0m\u001b[37m\u001b[0m \u001b[1m11s\u001b[0m 6ms/step - accuracy: 0.8702 - loss: 0.3713 - val_accuracy: 0.8780 - val_loss: 0.3541\n",
      "Epoch 8/30\n",
      "\u001b[1m1719/1719\u001b[0m \u001b[32m━━━━━━━━━━━━━━━━━━━━\u001b[0m\u001b[37m\u001b[0m \u001b[1m12s\u001b[0m 7ms/step - accuracy: 0.8730 - loss: 0.3568 - val_accuracy: 0.8738 - val_loss: 0.3582\n",
      "Epoch 9/30\n",
      "\u001b[1m1719/1719\u001b[0m \u001b[32m━━━━━━━━━━━━━━━━━━━━\u001b[0m\u001b[37m\u001b[0m \u001b[1m11s\u001b[0m 6ms/step - accuracy: 0.8787 - loss: 0.3411 - val_accuracy: 0.8784 - val_loss: 0.3438\n",
      "Epoch 10/30\n",
      "\u001b[1m1719/1719\u001b[0m \u001b[32m━━━━━━━━━━━━━━━━━━━━\u001b[0m\u001b[37m\u001b[0m \u001b[1m11s\u001b[0m 7ms/step - accuracy: 0.8812 - loss: 0.3400 - val_accuracy: 0.8758 - val_loss: 0.3413\n",
      "Epoch 11/30\n",
      "\u001b[1m1719/1719\u001b[0m \u001b[32m━━━━━━━━━━━━━━━━━━━━\u001b[0m\u001b[37m\u001b[0m \u001b[1m12s\u001b[0m 7ms/step - accuracy: 0.8821 - loss: 0.3341 - val_accuracy: 0.8798 - val_loss: 0.3424\n",
      "Epoch 12/30\n",
      "\u001b[1m1719/1719\u001b[0m \u001b[32m━━━━━━━━━━━━━━━━━━━━\u001b[0m\u001b[37m\u001b[0m \u001b[1m13s\u001b[0m 7ms/step - accuracy: 0.8839 - loss: 0.3175 - val_accuracy: 0.8810 - val_loss: 0.3336\n",
      "Epoch 13/30\n",
      "\u001b[1m1719/1719\u001b[0m \u001b[32m━━━━━━━━━━━━━━━━━━━━\u001b[0m\u001b[37m\u001b[0m \u001b[1m12s\u001b[0m 7ms/step - accuracy: 0.8888 - loss: 0.3129 - val_accuracy: 0.8848 - val_loss: 0.3262\n",
      "Epoch 14/30\n",
      "\u001b[1m1719/1719\u001b[0m \u001b[32m━━━━━━━━━━━━━━━━━━━━\u001b[0m\u001b[37m\u001b[0m \u001b[1m11s\u001b[0m 7ms/step - accuracy: 0.8894 - loss: 0.3058 - val_accuracy: 0.8832 - val_loss: 0.3417\n",
      "Epoch 15/30\n",
      "\u001b[1m1719/1719\u001b[0m \u001b[32m━━━━━━━━━━━━━━━━━━━━\u001b[0m\u001b[37m\u001b[0m \u001b[1m12s\u001b[0m 7ms/step - accuracy: 0.8928 - loss: 0.2963 - val_accuracy: 0.8892 - val_loss: 0.3147\n",
      "Epoch 16/30\n",
      "\u001b[1m1719/1719\u001b[0m \u001b[32m━━━━━━━━━━━━━━━━━━━━\u001b[0m\u001b[37m\u001b[0m \u001b[1m13s\u001b[0m 7ms/step - accuracy: 0.8942 - loss: 0.2902 - val_accuracy: 0.8852 - val_loss: 0.3112\n",
      "Epoch 17/30\n",
      "\u001b[1m1719/1719\u001b[0m \u001b[32m━━━━━━━━━━━━━━━━━━━━\u001b[0m\u001b[37m\u001b[0m \u001b[1m11s\u001b[0m 6ms/step - accuracy: 0.9000 - loss: 0.2771 - val_accuracy: 0.8858 - val_loss: 0.3128\n",
      "Epoch 18/30\n",
      "\u001b[1m1719/1719\u001b[0m \u001b[32m━━━━━━━━━━━━━━━━━━━━\u001b[0m\u001b[37m\u001b[0m \u001b[1m12s\u001b[0m 7ms/step - accuracy: 0.8966 - loss: 0.2819 - val_accuracy: 0.8780 - val_loss: 0.3395\n",
      "Epoch 19/30\n",
      "\u001b[1m1719/1719\u001b[0m \u001b[32m━━━━━━━━━━━━━━━━━━━━\u001b[0m\u001b[37m\u001b[0m \u001b[1m20s\u001b[0m 6ms/step - accuracy: 0.9015 - loss: 0.2741 - val_accuracy: 0.8886 - val_loss: 0.3104\n",
      "Epoch 20/30\n",
      "\u001b[1m1719/1719\u001b[0m \u001b[32m━━━━━━━━━━━━━━━━━━━━\u001b[0m\u001b[37m\u001b[0m \u001b[1m11s\u001b[0m 7ms/step - accuracy: 0.9029 - loss: 0.2702 - val_accuracy: 0.8876 - val_loss: 0.3088\n",
      "Epoch 21/30\n",
      "\u001b[1m1719/1719\u001b[0m \u001b[32m━━━━━━━━━━━━━━━━━━━━\u001b[0m\u001b[37m\u001b[0m \u001b[1m11s\u001b[0m 7ms/step - accuracy: 0.9047 - loss: 0.2668 - val_accuracy: 0.8878 - val_loss: 0.3110\n",
      "Epoch 22/30\n",
      "\u001b[1m1719/1719\u001b[0m \u001b[32m━━━━━━━━━━━━━━━━━━━━\u001b[0m\u001b[37m\u001b[0m \u001b[1m11s\u001b[0m 6ms/step - accuracy: 0.9055 - loss: 0.2625 - val_accuracy: 0.8836 - val_loss: 0.3063\n",
      "Epoch 23/30\n",
      "\u001b[1m1719/1719\u001b[0m \u001b[32m━━━━━━━━━━━━━━━━━━━━\u001b[0m\u001b[37m\u001b[0m \u001b[1m13s\u001b[0m 7ms/step - accuracy: 0.9090 - loss: 0.2537 - val_accuracy: 0.8886 - val_loss: 0.3023\n",
      "Epoch 24/30\n",
      "\u001b[1m1719/1719\u001b[0m \u001b[32m━━━━━━━━━━━━━━━━━━━━\u001b[0m\u001b[37m\u001b[0m \u001b[1m11s\u001b[0m 7ms/step - accuracy: 0.9093 - loss: 0.2487 - val_accuracy: 0.8890 - val_loss: 0.3025\n",
      "Epoch 25/30\n",
      "\u001b[1m1719/1719\u001b[0m \u001b[32m━━━━━━━━━━━━━━━━━━━━\u001b[0m\u001b[37m\u001b[0m \u001b[1m11s\u001b[0m 7ms/step - accuracy: 0.9113 - loss: 0.2448 - val_accuracy: 0.8900 - val_loss: 0.3028\n",
      "Epoch 26/30\n",
      "\u001b[1m1719/1719\u001b[0m \u001b[32m━━━━━━━━━━━━━━━━━━━━\u001b[0m\u001b[37m\u001b[0m \u001b[1m12s\u001b[0m 7ms/step - accuracy: 0.9134 - loss: 0.2398 - val_accuracy: 0.8936 - val_loss: 0.2959\n",
      "Epoch 27/30\n",
      "\u001b[1m1719/1719\u001b[0m \u001b[32m━━━━━━━━━━━━━━━━━━━━\u001b[0m\u001b[37m\u001b[0m \u001b[1m20s\u001b[0m 7ms/step - accuracy: 0.9135 - loss: 0.2322 - val_accuracy: 0.8926 - val_loss: 0.2988\n",
      "Epoch 28/30\n",
      "\u001b[1m1719/1719\u001b[0m \u001b[32m━━━━━━━━━━━━━━━━━━━━\u001b[0m\u001b[37m\u001b[0m \u001b[1m11s\u001b[0m 7ms/step - accuracy: 0.9169 - loss: 0.2320 - val_accuracy: 0.8936 - val_loss: 0.3022\n",
      "Epoch 29/30\n",
      "\u001b[1m1719/1719\u001b[0m \u001b[32m━━━━━━━━━━━━━━━━━━━━\u001b[0m\u001b[37m\u001b[0m \u001b[1m13s\u001b[0m 8ms/step - accuracy: 0.9172 - loss: 0.2294 - val_accuracy: 0.8808 - val_loss: 0.3249\n",
      "Epoch 30/30\n",
      "\u001b[1m1719/1719\u001b[0m \u001b[32m━━━━━━━━━━━━━━━━━━━━\u001b[0m\u001b[37m\u001b[0m \u001b[1m13s\u001b[0m 8ms/step - accuracy: 0.9189 - loss: 0.2287 - val_accuracy: 0.8936 - val_loss: 0.2914\n"
     ]
    }
   ],
   "source": [
    "\n",
    "history = model.fit(x_train, y_train, epochs=30,validation_data=(x_test, y_test))\n"
   ]
  },
  {
   "cell_type": "markdown",
   "id": "d0d5ba1b-0939-4a62-82d2-b7d8002d8848",
   "metadata": {},
   "source": [
    "#### ***Model Training Summary***\n",
    "\n",
    "The neural network was trained over **30 epochs**, and the following observations were made:\n",
    "\n",
    "1. **Training Loss and Accuracy**:\n",
    "   - The training loss steadily decreased from **0.9904** (Epoch 1) to **0.2287** (Epoch 30), indicating that the model effectively minimized the error on the training data.\n",
    "   - Training accuracy improved consistently from **68.71%** to **91.89%**, showing the model learned to classify training samples more accurately over time.\n",
    "\n",
    "2. **Validation Metrics**:\n",
    "   - Validation accuracy started at **82.82%** and reached a maximum of **89.36%**, indicating good generalization to unseen data.\n",
    "   - Validation loss decreased from **0.5128** to **0.2914**, though it fluctuated slightly in later epochs, suggesting the model stabilized.\n",
    "\n",
    "3. **Overfitting Analysis**:\n",
    "   - The gap between training and validation accuracy remained small, with validation accuracy closely tracking training accuracy (e.g., **91.89%** vs. **89.36%** in the final epoch).\n",
    "   - This suggests the model avoided significant overfitting during training.\n",
    "\n",
    "4. **Performance Plateau**:\n",
    "   - Around **Epoch 26**, validation accuracy and loss began to stabilize, indicating diminishing returns from additional training.\n",
    "\n",
    "**Overall**, the model demonstrates strong performance and generalization, achieving a validation accuracy of **89.36%** with no signs of severe overfitting.\n"
   ]
  },
  {
   "cell_type": "markdown",
   "id": "c1db6e6c-dfa0-42d7-8e54-9796ce074680",
   "metadata": {},
   "source": [
    "***\n",
    "#### ***Handling Class Imbalances and Visualizing Learning Curves***\n",
    "\n",
    "1. **Dealing with Skewed Datasets**:\n",
    "   - When the training set is skewed (some classes are overrepresented and others underrepresented), it is beneficial to use the `class_weight` argument in the `fit()` method.\n",
    "   - `class_weight` assigns:\n",
    "     - **Higher weight** to underrepresented classes.\n",
    "     - **Lower weight** to overrepresented classes.\n",
    "   - These weights are applied when computing the loss, helping the model balance learning across all classes.\n",
    "   - For per-instance weights, use the `sample_weight` argument instead. This supersedes `class_weight` and is useful in scenarios such as:\n",
    "     - Giving more weight to instances labeled by experts versus those labeled by crowdsourcing platforms.\n",
    "\n",
    "2. **Validation Weights**:\n",
    "   - While `class_weight` does not apply to the validation set, you can provide `sample_weight` for the validation set by including it as the third item in the `validation_data` tuple.\n",
    "\n",
    "3. **Accessing Training History**:\n",
    "   - The `fit()` method returns a `History` object containing:\n",
    "     - `history.params`: Training parameters.\n",
    "     - `history.epoch`: List of epochs.\n",
    "     - `history.history`: A dictionary containing the training loss and metrics for each epoch on both the training and validation sets.\n",
    "\n",
    "4. **Plotting Learning Curves**:\n",
    "   - You can visualize the learning curves (e.g., loss and accuracy over epochs) using the `history.history` dictionary:\n",
    "   - This plot provides insight into the model's performance over time, helping identify overfitting, underfitting, or stabilization trends.\n"
   ]
  },
  {
   "cell_type": "code",
   "execution_count": 22,
   "id": "89c26fad-1f23-48dc-8b73-f550238e3578",
   "metadata": {},
   "outputs": [
    {
     "data": {
      "image/png": "[encoded data removed]",
      "text/plain": [
       "<Figure size 800x500 with 1 Axes>"
      ]
     },
     "metadata": {},
     "output_type": "display_data"
    }
   ],
   "source": [
    "\n",
    "import pandas as pd\n",
    "import matplotlib.pyplot as plt\n",
    "pd.DataFrame(history.history).plot(figsize=(8, 5))\n",
    "plt.grid(True)\n",
    "plt.gca().set_ylim(0, 1) # set the vertical range to [0-1]\n",
    "plt.show()\n"
   ]
  },
  {
   "cell_type": "markdown",
   "id": "623d9334-4589-43c8-9ab3-63a8369f7657",
   "metadata": {},
   "source": [
    "#### ***Learning Curve Analysis***\n",
    "\n",
    "The following plot shows the learning curves for accuracy, loss, validation accuracy, and validation loss over epochs.\n",
    "\n",
    "***Observations:***\n",
    "1. **Accuracy (blue) and Validation Accuracy (green)**  \n",
    "   - Both curves are increasing, indicating that the model is learning.  \n",
    "   - Validation accuracy is slightly lower than training accuracy, which is expected.\n",
    "\n",
    "2. **Loss (orange) and Validation Loss (red)**  \n",
    "   - Both loss curves are decreasing, which is a good sign.  \n",
    "   - Validation loss fluctuates but follows the overall downward trend of training loss.\n",
    "\n",
    "***Potential Issues:***\n",
    "- If the gap between training and validation accuracy keeps increasing, it could indicate **overfitting**.\n",
    "- If validation loss starts increasing while training loss keeps decreasing, this would also signal **overfitting**.\n",
    "***"
   ]
  },
  {
   "cell_type": "markdown",
   "id": "98776972-2c44-4ae3-b45b-e34e976bd053",
   "metadata": {},
   "source": [
    "#### ***Using the Model to Make Predictions:***\n",
    " \n",
    "Next, we can use the model’s `predict()` method to make predictions on new instances. Since we don’t have actual new instances, we will just use the first 3 instances of the test set:"
   ]
  },
  {
   "cell_type": "code",
   "execution_count": 25,
   "id": "3c7a8e42-a83d-4972-9271-24d6391ca683",
   "metadata": {},
   "outputs": [
    {
     "name": "stdout",
     "output_type": "stream",
     "text": [
      "\u001b[1m1/1\u001b[0m \u001b[32m━━━━━━━━━━━━━━━━━━━━\u001b[0m\u001b[37m\u001b[0m \u001b[1m0s\u001b[0m 451ms/step\n"
     ]
    },
    {
     "data": {
      "text/plain": [
       "array([[0.  , 0.  , 0.  , 0.  , 0.  , 0.  , 0.  , 0.  , 0.  , 1.  ],\n",
       "       [1.  , 0.  , 0.  , 0.  , 0.  , 0.  , 0.  , 0.  , 0.  , 0.  ],\n",
       "       [0.66, 0.01, 0.01, 0.18, 0.01, 0.  , 0.12, 0.  , 0.  , 0.  ]],\n",
       "      dtype=float32)"
      ]
     },
     "execution_count": 25,
     "metadata": {},
     "output_type": "execute_result"
    }
   ],
   "source": [
    "\n",
    "x_new = x_test[:3]\n",
    "y_proba = model.predict(x_new)\n",
    "y_proba.round(2)\n"
   ]
  },
  {
   "cell_type": "markdown",
   "id": "99439b62-9b03-4342-8db6-5add6133d577",
   "metadata": {},
   "source": [
    "**Understanding the Code Execution:**\n",
    " - `x_new = x_test[:3]`: Selects the first three instances from the test dataset.\n",
    " - `y_proba = model.predict(x_new)`: Predicts class probabilities for these three instances.\n",
    " - `y_proba.round(2)`: Rounds the probabilities to two decimal places for better readability.\n",
    "\n",
    "**Interpreting the Output (Probability Distribution):**\n",
    "\n",
    "* Each row represents one test instance, and each column represents the predicted probability for a specific class.\n",
    "\n",
    "  * **First Instance:**\n",
    "     * `[0. , 0. , 0. , 0. , 0. , 0. , 0. , 0. , 1. ]`\n",
    "     * Highest probability `(1.0)` for the 9th class (index 8) → Model confidently predicts class 8.\n",
    "\n",
    "  * **Second Instance:**\n",
    "     * `[1. , 0. , 0. , 0. , 0. , 0. , 0. , 0. , 0. ]`\n",
    "     * Highest probability `(1.0)` for the 1st class (index 0) → Model confidently predicts class 0.\n",
    "\n",
    "  * **Third Instance:**\n",
    "     * `[0.66, 0.01, 0.01, 0.18, 0.01, 0. , 0.12, 0. , 0. ]`\n",
    "     * Highest probability `(0.66)` for the 1st class (index 0) → Model predicts class 0, but with less certainty compared to the previous cases."
   ]
  },
  {
   "cell_type": "code",
   "execution_count": null,
   "id": "2c18dfb9-7062-47b7-ac72-dda4813e4502",
   "metadata": {},
   "outputs": [],
   "source": []
  }
 ],
 "metadata": {
  "kernelspec": {
   "display_name": "Python 3 (ipykernel)",
   "language": "python",
   "name": "python3"
  },
  "language_info": {
   "codemirror_mode": {
    "name": "ipython",
    "version": 3
   },
   "file_extension": ".py",
   "mimetype": "text/x-python",
   "name": "python",
   "nbconvert_exporter": "python",
   "pygments_lexer": "ipython3",
   "version": "3.11.7"
  },
  "widgets": {
   "application/vnd.jupyter.widget-state+json": {
    "state": {},
    "version_major": 2,
    "version_minor": 0
   }
  }
 },
 "nbformat": 4,
 "nbformat_minor": 5
}
