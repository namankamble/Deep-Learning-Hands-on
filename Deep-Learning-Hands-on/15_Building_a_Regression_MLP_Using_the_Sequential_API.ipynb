{
 "cells": [
  {
   "cell_type": "markdown",
   "id": "0fe30dc3-8fe2-4f07-8284-106d796e27ef",
   "metadata": {},
   "source": [
    "***\n",
    "# <center>***Building a Regression MLP Using the Sequential API***\n",
    "***"
   ]
  },
  {
   "cell_type": "markdown",
   "id": "ffab7ab6-ba49-483f-8749-dab2342d5188",
   "metadata": {},
   "source": [
    "*To solve the California housing problem using a regression neural network with an MLP (Multilayer Perceptron) in TensorFlow/Keras, you will need to follow these steps:*"
   ]
  },
  {
   "cell_type": "markdown",
   "id": "2da58700-38f1-4d53-90a2-b6e9e8c9b01a",
   "metadata": {},
   "source": [
    "#### **1. Install necessary libraries:** Make sure you have tensorflow and sklearn installed:"
   ]
  },
  {
   "cell_type": "code",
   "execution_count": null,
   "id": "b4dae5e9-cd32-43a7-82dc-b8039a497c71",
   "metadata": {},
   "outputs": [],
   "source": [
    "\n",
    "!pip install tensorflow scikit-learn\n"
   ]
  },
  {
   "cell_type": "markdown",
   "id": "84787ffc-7805-4d1c-8f3c-b17d0dc6d94d",
   "metadata": {},
   "source": [
    "**2. Import libraries:**"
   ]
  },
  {
   "cell_type": "code",
   "execution_count": 1,
   "id": "465d7068-96d4-4f45-a3bb-b637ae71c409",
   "metadata": {},
   "outputs": [],
   "source": [
    "\n",
    "import numpy as np\n",
    "import pandas as pd\n",
    "import tensorflow as tf\n",
    "from tensorflow.keras.models import Sequential\n",
    "from tensorflow.keras.layers import Dense\n",
    "from sklearn.datasets import fetch_openml\n",
    "from sklearn.model_selection import train_test_split\n",
    "from sklearn.preprocessing import StandardScaler\n"
   ]
  },
  {
   "cell_type": "code",
   "execution_count": 29,
   "id": "7564bc8d-3d29-4726-84ef-f74e9f7fb69f",
   "metadata": {},
   "outputs": [],
   "source": [
    "\n",
    "import warnings\n",
    "warnings.filterwarnings('ignore')\n"
   ]
  },
  {
   "cell_type": "markdown",
   "id": "06f7d29d-4d28-49b3-985c-e33bffddcfb7",
   "metadata": {},
   "source": [
    "**3. Load the California housing dataset:** You can fetch this dataset directly from scikit-learn or use fetch_openml for a more flexible solution: "
   ]
  },
  {
   "cell_type": "code",
   "execution_count": 37,
   "id": "660efb31-0909-43e6-9e41-fdfe8b0d9ad3",
   "metadata": {},
   "outputs": [],
   "source": [
    "\n",
    "california_housing = fetch_openml('california_housing', version=1)\n",
    "data = pd.DataFrame(california_housing.data, columns=california_housing.feature_names)\n",
    "target = california_housing.target\n"
   ]
  },
  {
   "cell_type": "markdown",
   "id": "5d0c2558-0dc6-4217-a987-2b93a612ac27",
   "metadata": {},
   "source": [
    "**Data Inspection:**"
   ]
  },
  {
   "cell_type": "code",
   "execution_count": 38,
   "id": "fd536d22-ec5f-452f-9639-73c217b276b2",
   "metadata": {},
   "outputs": [
    {
     "name": "stdout",
     "output_type": "stream",
     "text": [
      "<class 'pandas.core.frame.DataFrame'>\n",
      "RangeIndex: 20640 entries, 0 to 20639\n",
      "Data columns (total 9 columns):\n",
      " #   Column              Non-Null Count  Dtype   \n",
      "---  ------              --------------  -----   \n",
      " 0   longitude           20640 non-null  float64 \n",
      " 1   latitude            20640 non-null  float64 \n",
      " 2   housing_median_age  20640 non-null  float64 \n",
      " 3   total_rooms         20640 non-null  float64 \n",
      " 4   total_bedrooms      20433 non-null  float64 \n",
      " 5   population          20640 non-null  float64 \n",
      " 6   households          20640 non-null  float64 \n",
      " 7   median_income       20640 non-null  float64 \n",
      " 8   ocean_proximity     20640 non-null  category\n",
      "dtypes: category(1), float64(8)\n",
      "memory usage: 1.3 MB\n"
     ]
    }
   ],
   "source": [
    "\n",
    "data.info()\n"
   ]
  },
  {
   "cell_type": "code",
   "execution_count": 39,
   "id": "bf83e2d1-750d-4eac-abe0-30d708c18e18",
   "metadata": {},
   "outputs": [
    {
     "data": {
      "text/plain": [
       "longitude               0\n",
       "latitude                0\n",
       "housing_median_age      0\n",
       "total_rooms             0\n",
       "total_bedrooms        207\n",
       "population              0\n",
       "households              0\n",
       "median_income           0\n",
       "ocean_proximity         0\n",
       "dtype: int64"
      ]
     },
     "execution_count": 39,
     "metadata": {},
     "output_type": "execute_result"
    }
   ],
   "source": [
    "\n",
    "data.isnull().sum()\n"
   ]
  },
  {
   "cell_type": "code",
   "execution_count": 40,
   "id": "48afbb29-2735-4575-a0b2-b6c0f5c71baf",
   "metadata": {},
   "outputs": [],
   "source": [
    "\n",
    "data['total_bedrooms'].fillna(data['total_bedrooms'].median(), inplace=True)\n"
   ]
  },
  {
   "cell_type": "code",
   "execution_count": 41,
   "id": "b97ff027-9918-4053-9221-10f1a2d835cd",
   "metadata": {},
   "outputs": [
    {
     "data": {
      "text/plain": [
       "longitude             0\n",
       "latitude              0\n",
       "housing_median_age    0\n",
       "total_rooms           0\n",
       "total_bedrooms        0\n",
       "population            0\n",
       "households            0\n",
       "median_income         0\n",
       "ocean_proximity       0\n",
       "dtype: int64"
      ]
     },
     "execution_count": 41,
     "metadata": {},
     "output_type": "execute_result"
    }
   ],
   "source": [
    "\n",
    "data.isnull().sum()\n"
   ]
  },
  {
   "cell_type": "markdown",
   "id": "26200336-8402-448a-851a-a3d2bdc98e0a",
   "metadata": {},
   "source": [
    "**4. Check for categorical columns:** Inspect the dataset to see which columns are categorical and need encoding."
   ]
  },
  {
   "cell_type": "code",
   "execution_count": 42,
   "id": "ab6eecd2-022b-4f35-8cdc-dca82441f3b6",
   "metadata": {},
   "outputs": [
    {
     "name": "stdout",
     "output_type": "stream",
     "text": [
      "longitude              float64\n",
      "latitude               float64\n",
      "housing_median_age     float64\n",
      "total_rooms            float64\n",
      "total_bedrooms         float64\n",
      "population             float64\n",
      "households             float64\n",
      "median_income          float64\n",
      "ocean_proximity       category\n",
      "dtype: object\n"
     ]
    }
   ],
   "source": [
    "\n",
    "print(data.dtypes)\n"
   ]
  },
  {
   "cell_type": "markdown",
   "id": "959cc944-e6d6-4179-acbc-b0c429730d0a",
   "metadata": {},
   "source": [
    "**5. Encode categorical columns:** If there are categorical columns (such as ocean_proximity or others), use pd.get_dummies() or LabelEncoder to convert them into numeric form:"
   ]
  },
  {
   "cell_type": "code",
   "execution_count": 43,
   "id": "56d2e472-e0f0-49ff-a0b6-089dfcac9a86",
   "metadata": {},
   "outputs": [],
   "source": [
    "\n",
    "data = pd.get_dummies(data, drop_first=True)  # This will convert categorical columns to numeric\n"
   ]
  },
  {
   "cell_type": "markdown",
   "id": "275b7464-7e0f-48c9-8c30-0435e611ceef",
   "metadata": {},
   "source": [
    "**6. Preprocessing the data:** Split the dataset into features (X) and target (y), then scale the data for neural network training:"
   ]
  },
  {
   "cell_type": "code",
   "execution_count": 44,
   "id": "6c7d8b91-27bc-4567-957b-20a8ff03c042",
   "metadata": {},
   "outputs": [],
   "source": [
    "\n",
    "X = data\n",
    "y = target\n",
    "\n",
    "# Split into training and testing sets\n",
    "X_train, X_test, y_train, y_test = train_test_split(X, y, test_size=0.2, random_state=42)\n",
    "\n",
    "# Scale the features\n",
    "scaler = StandardScaler()\n",
    "X_train = scaler.fit_transform(X_train)\n",
    "X_test = scaler.transform(X_test)\n"
   ]
  },
  {
   "cell_type": "markdown",
   "id": "07d1535e-061b-4313-9924-37b70f66b900",
   "metadata": {},
   "source": [
    "**7. Build the MLP model:** Using the Sequential API to build a regression model. This example uses 3 dense layers:"
   ]
  },
  {
   "cell_type": "code",
   "execution_count": 45,
   "id": "1e881f32-94a6-47b5-b225-08f882508333",
   "metadata": {},
   "outputs": [],
   "source": [
    "\n",
    "model = Sequential([\n",
    "    Dense(64, activation='relu', input_shape=(X_train.shape[1],)),\n",
    "    Dense(64, activation='relu'),\n",
    "    Dense(32, activation='relu'),\n",
    "    Dense(1)  # Output layer with 1 neuron for regression\n",
    "])\n"
   ]
  },
  {
   "cell_type": "markdown",
   "id": "3eef6c23-a371-471e-a5d7-e31c54d2fb48",
   "metadata": {},
   "source": [
    "**8. Compile the model:** Use mean squared error (mse) as the loss function for regression and an optimizer like Adam."
   ]
  },
  {
   "cell_type": "code",
   "execution_count": 46,
   "id": "ee062d4a-fcc8-45dd-b4eb-607252786994",
   "metadata": {},
   "outputs": [],
   "source": [
    "\n",
    "model.compile(optimizer='adam', loss='mse')\n"
   ]
  },
  {
   "cell_type": "markdown",
   "id": "3fd0dbaa-feaa-45dc-a649-e80280a33289",
   "metadata": {},
   "source": [
    "**9. Train the model:** Train the model with your training data:"
   ]
  },
  {
   "cell_type": "code",
   "execution_count": 47,
   "id": "cc5f03dd-c9cb-4bdd-92f5-0e548e7da29d",
   "metadata": {},
   "outputs": [
    {
     "name": "stdout",
     "output_type": "stream",
     "text": [
      "Epoch 1/50\n",
      "\u001b[1m516/516\u001b[0m \u001b[32m━━━━━━━━━━━━━━━━━━━━\u001b[0m\u001b[37m\u001b[0m \u001b[1m6s\u001b[0m 6ms/step - loss: 53292597248.0000 - val_loss: 14570467328.0000\n",
      "Epoch 2/50\n",
      "\u001b[1m516/516\u001b[0m \u001b[32m━━━━━━━━━━━━━━━━━━━━\u001b[0m\u001b[37m\u001b[0m \u001b[1m3s\u001b[0m 5ms/step - loss: 11217982464.0000 - val_loss: 7802137088.0000\n",
      "Epoch 3/50\n",
      "\u001b[1m516/516\u001b[0m \u001b[32m━━━━━━━━━━━━━━━━━━━━\u001b[0m\u001b[37m\u001b[0m \u001b[1m3s\u001b[0m 5ms/step - loss: 7241789952.0000 - val_loss: 6361364480.0000\n",
      "Epoch 4/50\n",
      "\u001b[1m516/516\u001b[0m \u001b[32m━━━━━━━━━━━━━━━━━━━━\u001b[0m\u001b[37m\u001b[0m \u001b[1m3s\u001b[0m 5ms/step - loss: 5932212224.0000 - val_loss: 5640726528.0000\n",
      "Epoch 5/50\n",
      "\u001b[1m516/516\u001b[0m \u001b[32m━━━━━━━━━━━━━━━━━━━━\u001b[0m\u001b[37m\u001b[0m \u001b[1m3s\u001b[0m 5ms/step - loss: 5295671296.0000 - val_loss: 5251969024.0000\n",
      "Epoch 6/50\n",
      "\u001b[1m516/516\u001b[0m \u001b[32m━━━━━━━━━━━━━━━━━━━━\u001b[0m\u001b[37m\u001b[0m \u001b[1m3s\u001b[0m 5ms/step - loss: 5203005440.0000 - val_loss: 5056436224.0000\n",
      "Epoch 7/50\n",
      "\u001b[1m516/516\u001b[0m \u001b[32m━━━━━━━━━━━━━━━━━━━━\u001b[0m\u001b[37m\u001b[0m \u001b[1m3s\u001b[0m 5ms/step - loss: 4833082368.0000 - val_loss: 4932821504.0000\n",
      "Epoch 8/50\n",
      "\u001b[1m516/516\u001b[0m \u001b[32m━━━━━━━━━━━━━━━━━━━━\u001b[0m\u001b[37m\u001b[0m \u001b[1m3s\u001b[0m 5ms/step - loss: 4588409344.0000 - val_loss: 4850617344.0000\n",
      "Epoch 9/50\n",
      "\u001b[1m516/516\u001b[0m \u001b[32m━━━━━━━━━━━━━━━━━━━━\u001b[0m\u001b[37m\u001b[0m \u001b[1m3s\u001b[0m 5ms/step - loss: 4695386112.0000 - val_loss: 4790775808.0000\n",
      "Epoch 10/50\n",
      "\u001b[1m516/516\u001b[0m \u001b[32m━━━━━━━━━━━━━━━━━━━━\u001b[0m\u001b[37m\u001b[0m \u001b[1m3s\u001b[0m 5ms/step - loss: 4492695040.0000 - val_loss: 4750936064.0000\n",
      "Epoch 11/50\n",
      "\u001b[1m516/516\u001b[0m \u001b[32m━━━━━━━━━━━━━━━━━━━━\u001b[0m\u001b[37m\u001b[0m \u001b[1m3s\u001b[0m 5ms/step - loss: 4413642752.0000 - val_loss: 4721669632.0000\n",
      "Epoch 12/50\n",
      "\u001b[1m516/516\u001b[0m \u001b[32m━━━━━━━━━━━━━━━━━━━━\u001b[0m\u001b[37m\u001b[0m \u001b[1m3s\u001b[0m 5ms/step - loss: 4474558464.0000 - val_loss: 4693375488.0000\n",
      "Epoch 13/50\n",
      "\u001b[1m516/516\u001b[0m \u001b[32m━━━━━━━━━━━━━━━━━━━━\u001b[0m\u001b[37m\u001b[0m \u001b[1m3s\u001b[0m 5ms/step - loss: 4469153792.0000 - val_loss: 4657593344.0000\n",
      "Epoch 14/50\n",
      "\u001b[1m516/516\u001b[0m \u001b[32m━━━━━━━━━━━━━━━━━━━━\u001b[0m\u001b[37m\u001b[0m \u001b[1m3s\u001b[0m 5ms/step - loss: 4477583872.0000 - val_loss: 4640641024.0000\n",
      "Epoch 15/50\n",
      "\u001b[1m516/516\u001b[0m \u001b[32m━━━━━━━━━━━━━━━━━━━━\u001b[0m\u001b[37m\u001b[0m \u001b[1m3s\u001b[0m 5ms/step - loss: 4419644416.0000 - val_loss: 4614546432.0000\n",
      "Epoch 16/50\n",
      "\u001b[1m516/516\u001b[0m \u001b[32m━━━━━━━━━━━━━━━━━━━━\u001b[0m\u001b[37m\u001b[0m \u001b[1m3s\u001b[0m 5ms/step - loss: 4478111232.0000 - val_loss: 4591602176.0000\n",
      "Epoch 17/50\n",
      "\u001b[1m516/516\u001b[0m \u001b[32m━━━━━━━━━━━━━━━━━━━━\u001b[0m\u001b[37m\u001b[0m \u001b[1m3s\u001b[0m 5ms/step - loss: 4376080384.0000 - val_loss: 4574765568.0000\n",
      "Epoch 18/50\n",
      "\u001b[1m516/516\u001b[0m \u001b[32m━━━━━━━━━━━━━━━━━━━━\u001b[0m\u001b[37m\u001b[0m \u001b[1m3s\u001b[0m 5ms/step - loss: 4411919872.0000 - val_loss: 4555020288.0000\n",
      "Epoch 19/50\n",
      "\u001b[1m516/516\u001b[0m \u001b[32m━━━━━━━━━━━━━━━━━━━━\u001b[0m\u001b[37m\u001b[0m \u001b[1m3s\u001b[0m 5ms/step - loss: 4229549312.0000 - val_loss: 4534441984.0000\n",
      "Epoch 20/50\n",
      "\u001b[1m516/516\u001b[0m \u001b[32m━━━━━━━━━━━━━━━━━━━━\u001b[0m\u001b[37m\u001b[0m \u001b[1m3s\u001b[0m 5ms/step - loss: 4422222848.0000 - val_loss: 4518154240.0000\n",
      "Epoch 21/50\n",
      "\u001b[1m516/516\u001b[0m \u001b[32m━━━━━━━━━━━━━━━━━━━━\u001b[0m\u001b[37m\u001b[0m \u001b[1m3s\u001b[0m 5ms/step - loss: 4247759872.0000 - val_loss: 4520154112.0000\n",
      "Epoch 22/50\n",
      "\u001b[1m516/516\u001b[0m \u001b[32m━━━━━━━━━━━━━━━━━━━━\u001b[0m\u001b[37m\u001b[0m \u001b[1m3s\u001b[0m 5ms/step - loss: 4315840512.0000 - val_loss: 4513480192.0000\n",
      "Epoch 23/50\n",
      "\u001b[1m516/516\u001b[0m \u001b[32m━━━━━━━━━━━━━━━━━━━━\u001b[0m\u001b[37m\u001b[0m \u001b[1m3s\u001b[0m 5ms/step - loss: 4143675648.0000 - val_loss: 4485807616.0000\n",
      "Epoch 24/50\n",
      "\u001b[1m516/516\u001b[0m \u001b[32m━━━━━━━━━━━━━━━━━━━━\u001b[0m\u001b[37m\u001b[0m \u001b[1m3s\u001b[0m 5ms/step - loss: 4241356544.0000 - val_loss: 4477316608.0000\n",
      "Epoch 25/50\n",
      "\u001b[1m516/516\u001b[0m \u001b[32m━━━━━━━━━━━━━━━━━━━━\u001b[0m\u001b[37m\u001b[0m \u001b[1m3s\u001b[0m 5ms/step - loss: 4327351296.0000 - val_loss: 4463104000.0000\n",
      "Epoch 26/50\n",
      "\u001b[1m516/516\u001b[0m \u001b[32m━━━━━━━━━━━━━━━━━━━━\u001b[0m\u001b[37m\u001b[0m \u001b[1m3s\u001b[0m 5ms/step - loss: 4102829824.0000 - val_loss: 4448886272.0000\n",
      "Epoch 27/50\n",
      "\u001b[1m516/516\u001b[0m \u001b[32m━━━━━━━━━━━━━━━━━━━━\u001b[0m\u001b[37m\u001b[0m \u001b[1m3s\u001b[0m 5ms/step - loss: 4212502784.0000 - val_loss: 4432888832.0000\n",
      "Epoch 28/50\n",
      "\u001b[1m516/516\u001b[0m \u001b[32m━━━━━━━━━━━━━━━━━━━━\u001b[0m\u001b[37m\u001b[0m \u001b[1m3s\u001b[0m 5ms/step - loss: 4153125120.0000 - val_loss: 4428421120.0000\n",
      "Epoch 29/50\n",
      "\u001b[1m516/516\u001b[0m \u001b[32m━━━━━━━━━━━━━━━━━━━━\u001b[0m\u001b[37m\u001b[0m \u001b[1m3s\u001b[0m 5ms/step - loss: 4307735552.0000 - val_loss: 4427708928.0000\n",
      "Epoch 30/50\n",
      "\u001b[1m516/516\u001b[0m \u001b[32m━━━━━━━━━━━━━━━━━━━━\u001b[0m\u001b[37m\u001b[0m \u001b[1m3s\u001b[0m 5ms/step - loss: 4137898240.0000 - val_loss: 4422466048.0000\n",
      "Epoch 31/50\n",
      "\u001b[1m516/516\u001b[0m \u001b[32m━━━━━━━━━━━━━━━━━━━━\u001b[0m\u001b[37m\u001b[0m \u001b[1m3s\u001b[0m 5ms/step - loss: 4115146496.0000 - val_loss: 4407979008.0000\n",
      "Epoch 32/50\n",
      "\u001b[1m516/516\u001b[0m \u001b[32m━━━━━━━━━━━━━━━━━━━━\u001b[0m\u001b[37m\u001b[0m \u001b[1m3s\u001b[0m 5ms/step - loss: 4201739776.0000 - val_loss: 4418184704.0000\n",
      "Epoch 33/50\n",
      "\u001b[1m516/516\u001b[0m \u001b[32m━━━━━━━━━━━━━━━━━━━━\u001b[0m\u001b[37m\u001b[0m \u001b[1m3s\u001b[0m 5ms/step - loss: 4263703808.0000 - val_loss: 4402254848.0000\n",
      "Epoch 34/50\n",
      "\u001b[1m516/516\u001b[0m \u001b[32m━━━━━━━━━━━━━━━━━━━━\u001b[0m\u001b[37m\u001b[0m \u001b[1m3s\u001b[0m 5ms/step - loss: 4113460224.0000 - val_loss: 4373757440.0000\n",
      "Epoch 35/50\n",
      "\u001b[1m516/516\u001b[0m \u001b[32m━━━━━━━━━━━━━━━━━━━━\u001b[0m\u001b[37m\u001b[0m \u001b[1m3s\u001b[0m 5ms/step - loss: 4290695680.0000 - val_loss: 4372510208.0000\n",
      "Epoch 36/50\n",
      "\u001b[1m516/516\u001b[0m \u001b[32m━━━━━━━━━━━━━━━━━━━━\u001b[0m\u001b[37m\u001b[0m \u001b[1m3s\u001b[0m 5ms/step - loss: 4252269824.0000 - val_loss: 4372942848.0000\n",
      "Epoch 37/50\n",
      "\u001b[1m516/516\u001b[0m \u001b[32m━━━━━━━━━━━━━━━━━━━━\u001b[0m\u001b[37m\u001b[0m \u001b[1m3s\u001b[0m 5ms/step - loss: 4154266880.0000 - val_loss: 4357579264.0000\n",
      "Epoch 38/50\n",
      "\u001b[1m516/516\u001b[0m \u001b[32m━━━━━━━━━━━━━━━━━━━━\u001b[0m\u001b[37m\u001b[0m \u001b[1m3s\u001b[0m 5ms/step - loss: 4240064512.0000 - val_loss: 4366905856.0000\n",
      "Epoch 39/50\n",
      "\u001b[1m516/516\u001b[0m \u001b[32m━━━━━━━━━━━━━━━━━━━━\u001b[0m\u001b[37m\u001b[0m \u001b[1m3s\u001b[0m 5ms/step - loss: 4046975488.0000 - val_loss: 4342923776.0000\n",
      "Epoch 40/50\n",
      "\u001b[1m516/516\u001b[0m \u001b[32m━━━━━━━━━━━━━━━━━━━━\u001b[0m\u001b[37m\u001b[0m \u001b[1m3s\u001b[0m 5ms/step - loss: 4108291328.0000 - val_loss: 4340887040.0000\n",
      "Epoch 41/50\n",
      "\u001b[1m516/516\u001b[0m \u001b[32m━━━━━━━━━━━━━━━━━━━━\u001b[0m\u001b[37m\u001b[0m \u001b[1m3s\u001b[0m 5ms/step - loss: 4232695808.0000 - val_loss: 4346467840.0000\n",
      "Epoch 42/50\n",
      "\u001b[1m516/516\u001b[0m \u001b[32m━━━━━━━━━━━━━━━━━━━━\u001b[0m\u001b[37m\u001b[0m \u001b[1m3s\u001b[0m 5ms/step - loss: 3991289344.0000 - val_loss: 4333621760.0000\n",
      "Epoch 43/50\n",
      "\u001b[1m516/516\u001b[0m \u001b[32m━━━━━━━━━━━━━━━━━━━━\u001b[0m\u001b[37m\u001b[0m \u001b[1m3s\u001b[0m 5ms/step - loss: 3946966272.0000 - val_loss: 4331102208.0000\n",
      "Epoch 44/50\n",
      "\u001b[1m516/516\u001b[0m \u001b[32m━━━━━━━━━━━━━━━━━━━━\u001b[0m\u001b[37m\u001b[0m \u001b[1m3s\u001b[0m 5ms/step - loss: 4164828416.0000 - val_loss: 4310234624.0000\n",
      "Epoch 45/50\n",
      "\u001b[1m516/516\u001b[0m \u001b[32m━━━━━━━━━━━━━━━━━━━━\u001b[0m\u001b[37m\u001b[0m \u001b[1m3s\u001b[0m 5ms/step - loss: 4061092608.0000 - val_loss: 4305008640.0000\n",
      "Epoch 46/50\n",
      "\u001b[1m516/516\u001b[0m \u001b[32m━━━━━━━━━━━━━━━━━━━━\u001b[0m\u001b[37m\u001b[0m \u001b[1m3s\u001b[0m 5ms/step - loss: 4103079168.0000 - val_loss: 4308741632.0000\n",
      "Epoch 47/50\n",
      "\u001b[1m516/516\u001b[0m \u001b[32m━━━━━━━━━━━━━━━━━━━━\u001b[0m\u001b[37m\u001b[0m \u001b[1m3s\u001b[0m 5ms/step - loss: 4059275776.0000 - val_loss: 4301319168.0000\n",
      "Epoch 48/50\n",
      "\u001b[1m516/516\u001b[0m \u001b[32m━━━━━━━━━━━━━━━━━━━━\u001b[0m\u001b[37m\u001b[0m \u001b[1m3s\u001b[0m 5ms/step - loss: 4050884096.0000 - val_loss: 4284763904.0000\n",
      "Epoch 49/50\n",
      "\u001b[1m516/516\u001b[0m \u001b[32m━━━━━━━━━━━━━━━━━━━━\u001b[0m\u001b[37m\u001b[0m \u001b[1m3s\u001b[0m 5ms/step - loss: 3950522880.0000 - val_loss: 4293090560.0000\n",
      "Epoch 50/50\n",
      "\u001b[1m516/516\u001b[0m \u001b[32m━━━━━━━━━━━━━━━━━━━━\u001b[0m\u001b[37m\u001b[0m \u001b[1m3s\u001b[0m 5ms/step - loss: 4066015488.0000 - val_loss: 4284196608.0000\n"
     ]
    },
    {
     "data": {
      "text/plain": [
       "<keras.src.callbacks.history.History at 0x244bfb61590>"
      ]
     },
     "execution_count": 47,
     "metadata": {},
     "output_type": "execute_result"
    }
   ],
   "source": [
    "\n",
    "model.fit(X_train, y_train, epochs=50, batch_size=32, validation_data=(X_test, y_test))\n"
   ]
  },
  {
   "cell_type": "markdown",
   "id": "d23c299b-b0fa-4853-a1f7-471a9ea38da4",
   "metadata": {},
   "source": [
    "**10. Evaluate the model:** After training, evaluate the model on the test set."
   ]
  },
  {
   "cell_type": "code",
   "execution_count": 48,
   "id": "6e70fe83-9e2b-4ab0-a26a-dd5b940ebd16",
   "metadata": {},
   "outputs": [
    {
     "name": "stdout",
     "output_type": "stream",
     "text": [
      "\u001b[1m129/129\u001b[0m \u001b[32m━━━━━━━━━━━━━━━━━━━━\u001b[0m\u001b[37m\u001b[0m \u001b[1m1s\u001b[0m 4ms/step - loss: 4274410240.0000\n",
      "Test Loss: 4284196608.0\n"
     ]
    }
   ],
   "source": [
    "\n",
    "loss = model.evaluate(X_test, y_test)\n",
    "print(f\"Test Loss: {loss}\")\n"
   ]
  },
  {
   "cell_type": "markdown",
   "id": "ee06ad19-833f-4e9f-b1da-5ce4a1a0f143",
   "metadata": {},
   "source": [
    "\n",
    "**11. Make predictions:** After training and evaluating the model, you can use it to make predictions on new data.\n"
   ]
  },
  {
   "cell_type": "code",
   "execution_count": 49,
   "id": "439c376e-dc83-496f-a1e8-a2658c64a850",
   "metadata": {},
   "outputs": [
    {
     "name": "stdout",
     "output_type": "stream",
     "text": [
      "\u001b[1m129/129\u001b[0m \u001b[32m━━━━━━━━━━━━━━━━━━━━\u001b[0m\u001b[37m\u001b[0m \u001b[1m1s\u001b[0m 3ms/step\n"
     ]
    }
   ],
   "source": [
    "\n",
    "y_pred = model.predict(X_test)\n"
   ]
  },
  {
   "cell_type": "markdown",
   "id": "66004f81-fe09-4ae7-aa21-21d5ce46c716",
   "metadata": {},
   "source": [
    "**12. Visualize the results:** You can compare predicted vs. actual values."
   ]
  },
  {
   "cell_type": "code",
   "execution_count": 50,
   "id": "49f622d6-9b48-40af-bfb1-dc57b95974e5",
   "metadata": {},
   "outputs": [
    {
     "data": {
      "image/png": "[encoded data removed]",
      "text/plain": [
       "<Figure size 640x480 with 1 Axes>"
      ]
     },
     "metadata": {},
     "output_type": "display_data"
    }
   ],
   "source": [
    "\n",
    "import matplotlib.pyplot as plt\n",
    "plt.scatter(y_test, y_pred)\n",
    "plt.xlabel('True Values')\n",
    "plt.ylabel('Predictions')\n",
    "plt.show()\n"
   ]
  },
  {
   "cell_type": "markdown",
   "id": "52fa691b-ec2a-44f4-9678-5e763df21dd9",
   "metadata": {
    "jp-MarkdownHeadingCollapsed": true
   },
   "source": [
    "### **Observations:**\n",
    "\n",
    "**Scatter Plot:**\n",
    "- The scatter plot shows the relationship between the true values (actual values) and the predictions made by the model.  \n",
    "Each point represents a data sample. The x-coordinate of the point is the true value, and the y-coordinate is the corresponding prediction.\n",
    "\n",
    "**Overall Trend:**\n",
    "- The points generally follow a diagonal upward trend, indicating that the model's predictions are positively correlated with the true values. This is a good sign, suggesting that the model is capturing the underlying patterns in the data.\n",
    "\n",
    "**Accuracy:**\n",
    "- The tightness of the points around the diagonal line gives an indication of the model's accuracy.  \n",
    "If the points were tightly clustered around the diagonal, it would suggest high accuracy. However, in this case, there is some scatter around the line, indicating that there is room for improvement in the model's accuracy.\n",
    "\n",
    "**Outliers:**\n",
    "- There are some points that appear to be far away from the main trend. These are likely outliers. Outliers can sometimes negatively impact the model's performance.\n",
    "\n",
    "\n",
    "**Interpretation:**\n",
    "- The model is able to capture the general trend in the data and make predictions that are positively correlated with the true values.\n",
    "- There is some room for improvement in the model's accuracy, as indicated by the scatter around the diagonal line.\n",
    "- Outliers might be affecting the model's performance and could be investigated further.\n"
   ]
  },
  {
   "cell_type": "markdown",
   "id": "72b2686a-722e-46fa-93c8-415314061c92",
   "metadata": {},
   "source": [
    "## **There's more...**"
   ]
  },
  {
   "cell_type": "code",
   "execution_count": null,
   "id": "777dbf78-de71-42cc-913f-d4e0fab4e9c9",
   "metadata": {},
   "outputs": [
    {
     "name": "stdout",
     "output_type": "stream",
     "text": [
      "Epoch 1/20\n"
     ]
    }
   ],
   "source": [
    "\n",
    "from tensorflow.keras.optimizers import SGD\n",
    "\n",
    "model_1 = Sequential([\n",
    "    Dense(64, activation='relu', input_shape=(X_train.shape[1],)),\n",
    "    Dense(64, activation='relu'),\n",
    "    Dense(32, activation='relu'),\n",
    "    Dense(1)  # Output layer with 1 neuron for regression\n",
    "])\n",
    "\n",
    " \n",
    "model_1.compile(loss=\"mean_squared_error\", optimizer=SGD(learning_rate=0.001, momentum=0.9, nesterov=True))\n",
    "\n",
    "\n",
    "history = model_1.fit(X_train, y_train, epochs=20,validation_data=(X_test, y_test))\n",
    "\n",
    "mse_test = model_1.evaluate(X_test, y_test)\n",
    "\n",
    "X_new = X_test[:3] # pretend these are new instances\n",
    "\n",
    "y_pred = model.predict(X_new)\n"
   ]
  },
  {
   "cell_type": "code",
   "execution_count": 52,
   "id": "61442b2d-d1b3-4ff8-8fe9-58abcb5f3b20",
   "metadata": {},
   "outputs": [
    {
     "data": {
      "text/plain": [
       "longitude                     0\n",
       "latitude                      0\n",
       "housing_median_age            0\n",
       "total_rooms                   0\n",
       "total_bedrooms                0\n",
       "population                    0\n",
       "households                    0\n",
       "median_income                 0\n",
       "ocean_proximity_INLAND        0\n",
       "ocean_proximity_ISLAND        0\n",
       "ocean_proximity_NEAR BAY      0\n",
       "ocean_proximity_NEAR OCEAN    0\n",
       "dtype: int64"
      ]
     },
     "execution_count": 52,
     "metadata": {},
     "output_type": "execute_result"
    }
   ],
   "source": [
    "data.isnull().sum()"
   ]
  },
  {
   "cell_type": "code",
   "execution_count": null,
   "id": "2714e96d-5e94-4860-8a8f-b109b89486b8",
   "metadata": {},
   "outputs": [],
   "source": []
  }
 ],
 "metadata": {
  "kernelspec": {
   "display_name": "Python 3 (ipykernel)",
   "language": "python",
   "name": "python3"
  },
  "language_info": {
   "codemirror_mode": {
    "name": "ipython",
    "version": 3
   },
   "file_extension": ".py",
   "mimetype": "text/x-python",
   "name": "python",
   "nbconvert_exporter": "python",
   "pygments_lexer": "ipython3",
   "version": "3.11.7"
  },
  "widgets": {
   "application/vnd.jupyter.widget-state+json": {
    "state": {},
    "version_major": 2,
    "version_minor": 0
   }
  }
 },
 "nbformat": 4,
 "nbformat_minor": 5
}
