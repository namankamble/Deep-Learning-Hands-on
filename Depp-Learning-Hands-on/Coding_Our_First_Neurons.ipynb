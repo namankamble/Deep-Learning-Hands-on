{
 "cells": [
  {
   "cell_type": "markdown",
   "id": "3793ebf7-b31b-4051-92c6-d05508a0cb25",
   "metadata": {},
   "source": [
    "***\n",
    "## ***A Single Neuron***\n",
    "***"
   ]
  },
  {
   "cell_type": "markdown",
   "id": "dcc534b3-509e-4fd8-9a90-266f72d9d24e",
   "metadata": {},
   "source": [
    "Let’s say we have a **single neuron**, and there are three inputs to this neuron. As in most cases, when we initialize parameters in neural networks, our network will have weights initialized randomly, and biases set as zero to start. The input will be either actual training data or the outputs of neurons from the previous layer in the neural network. We are just going to make up values to start with as input for now: "
   ]
  },
  {
   "cell_type": "code",
   "execution_count": 1,
   "id": "d4b1ab9a-7d54-4933-b365-d680b01061c8",
   "metadata": {},
   "outputs": [],
   "source": [
    "\n",
    "inputs = [1, 2, 3]\n"
   ]
  },
  {
   "cell_type": "markdown",
   "id": "1c6f9787-6857-4eef-a258-68d141380894",
   "metadata": {},
   "source": [
    "Each input also needs a weight associated with it. Inputs are the data that we pass into the model to get desired outputs. Weights are one of the types of values that change inside the model during the training phase, along with biases that also change during training. The values for weights and biases are what get **“trained,”** and they are what make a model actually work (or not work). \n",
    "\n",
    "Let’s say the first input, at index 0, which is a 1, has a weight of 0.2, the second input has a weight of 0.8, and the third input has a weight of -0.5. Our input and weights lists should now be: "
   ]
  },
  {
   "cell_type": "code",
   "execution_count": 2,
   "id": "497c43a8-c24f-47e6-9d12-968fba478220",
   "metadata": {},
   "outputs": [],
   "source": [
    "\n",
    "inputs = [1, 2, 3] \n",
    "\n",
    "weights = [0.2, 0.8, -0.5] \n"
   ]
  },
  {
   "cell_type": "markdown",
   "id": "e4da93e0-0172-4eee-b3fa-781cb9c67536",
   "metadata": {},
   "source": [
    "Next, we need the bias. At the moment, we are modeling a single neuron with three inputs. Since we are modeling a single neuron, we only have one bias, as there is just one bias value per neuron. The bias is an additional tunable value but is not associated with any input in contrast to the weights. We will randomly select a value of 2 as the bias for this example: "
   ]
  },
  {
   "cell_type": "code",
   "execution_count": 3,
   "id": "9bdc559e-08b4-477c-a796-dfb0a9b01929",
   "metadata": {},
   "outputs": [],
   "source": [
    "\n",
    "bias = 2\n"
   ]
  },
  {
   "cell_type": "markdown",
   "id": "0191c428-838d-4508-93c9-a4b4c9b367f2",
   "metadata": {},
   "source": [
    "This neuron sums each input multiplied by that input’s weight, then adds the bias. All the neuron does is take the fractions of inputs, where these fractions (weights) are the adjustable parameters, and adds another adjustable parameter the bias then outputs the result. Our output would be calculated up to this point like: "
   ]
  },
  {
   "cell_type": "code",
   "execution_count": 4,
   "id": "af2bd635-e0e5-402e-b4ef-9649b2b9a44c",
   "metadata": {},
   "outputs": [
    {
     "name": "stdout",
     "output_type": "stream",
     "text": [
      "2.3\n"
     ]
    }
   ],
   "source": [
    "\n",
    "output = (inputs[0]*weights[0] + inputs[1]*weights[1] + inputs[2]*weights[2] + bias) \n",
    "\n",
    "print(output)\n"
   ]
  },
  {
   "cell_type": "markdown",
   "id": "ff1ebbad-609f-44a8-9d36-1f42ddbd1040",
   "metadata": {},
   "source": [
    "**What might we need to change if we have 4 inputs, rather than the 3 we have just shown?** Next to the additional input, we need to add an associated weight, which this new input will be multiplied with. We will make up a value for this new weight as well. Code for this data could be: "
   ]
  },
  {
   "cell_type": "code",
   "execution_count": 5,
   "id": "d0f5e39f-8e14-4a88-a90e-107257ae2e8c",
   "metadata": {},
   "outputs": [],
   "source": [
    "\n",
    "inputs = [1.0, 2.0, 3.0, 2.5] \n",
    "\n",
    "weights = [0.2, 0.8, -0.5, 1.0] \n",
    "\n",
    "bias = 2.0 \n"
   ]
  },
  {
   "cell_type": "code",
   "execution_count": 6,
   "id": "0f794923-5782-43e2-ae86-415e937d3d7e",
   "metadata": {},
   "outputs": [
    {
     "name": "stdout",
     "output_type": "stream",
     "text": [
      "4.8\n"
     ]
    }
   ],
   "source": [
    "\n",
    "output = (inputs[0]*weights[0] + inputs[1]*weights[1] + inputs[2]*weights[2] + inputs[3]*weights[3] + bias) \n",
    "\n",
    "print(output)\n"
   ]
  },
  {
   "cell_type": "markdown",
   "id": "8da62fb4-59be-4f1a-a508-2e9a69c69e30",
   "metadata": {},
   "source": [
    "***\n",
    "## ***A Layer of Neurons***\n",
    "***"
   ]
  },
  {
   "cell_type": "markdown",
   "id": "91ecab1f-13ea-4014-b96d-c6c4ce0908f2",
   "metadata": {},
   "source": [
    "Neural networks typically have **layers** that consist of **more than one neuron**. **Layers** are nothing more than groups of neurons. Each neuron in a layer takes exactly the same input the input given to the layer (which can be either the training data or the output from the previous layer), but contains its own set of weights and its own bias, producing its own unique output. The layer’s output is a set of each of these outputs one per each neuron."
   ]
  },
  {
   "cell_type": "markdown",
   "id": "abe45e53-8fa4-435f-a65e-25553984203c",
   "metadata": {},
   "source": [
    "We will keep the initial 4 inputs and set of weights for the first neuron the same as we have been using so far. We will add 2 additional, made up, sets of weights and 2 additional biases to form 2 new neurons for a total of 3 in the layer. The layer’s output is going to be a list of 3 values, not just a single value like for a single neuron. "
   ]
  },
  {
   "cell_type": "code",
   "execution_count": 8,
   "id": "9b9a6b48-caa3-4993-99a0-b1d212b015a8",
   "metadata": {},
   "outputs": [],
   "source": [
    "\n",
    "inputs = [1, 2, 3, 2.5] \n",
    " "
   ]
  },
  {
   "cell_type": "code",
   "execution_count": 9,
   "id": "dcf237ae-c1bc-4fa3-929b-cd8795701b6c",
   "metadata": {},
   "outputs": [],
   "source": [
    "\n",
    "weights1 = [0.2, 0.8, -0.5, 1] \n",
    "weights2 = [0.5, -0.91, 0.26, -0.5] \n",
    "weights3 = [-0.26, -0.27, 0.17, 0.87] \n",
    " "
   ]
  },
  {
   "cell_type": "code",
   "execution_count": 10,
   "id": "4dd771ed-0809-4b87-86ec-9f3dc5ae8464",
   "metadata": {},
   "outputs": [],
   "source": [
    "\n",
    "bias1 = 2 \n",
    "bias2 = 3 \n",
    "bias3 = 0.5\n"
   ]
  },
  {
   "cell_type": "code",
   "execution_count": 12,
   "id": "e102a433-dec7-4e39-9fc5-50d63d9e1538",
   "metadata": {},
   "outputs": [
    {
     "name": "stdout",
     "output_type": "stream",
     "text": [
      "[4.8, 1.21, 2.385]\n"
     ]
    }
   ],
   "source": [
    "\n",
    "outputs = [ \n",
    "        # Neuron 1: \n",
    "        inputs[0]*weights1[0] + \n",
    "        inputs[1]*weights1[1] + \n",
    "        inputs[2]*weights1[2] + \n",
    "        inputs[3]*weights1[3] + bias1, \n",
    " \n",
    "        # Neuron 2: \n",
    "        inputs[0]*weights2[0] + \n",
    "        inputs[1]*weights2[1] + \n",
    "        inputs[2]*weights2[2] + \n",
    "        inputs[3]*weights2[3] + bias2, \n",
    " \n",
    "        # Neuron 3: \n",
    "        inputs[0]*weights3[0] + \n",
    "        inputs[1]*weights3[1] + \n",
    "        inputs[2]*weights3[2] + \n",
    "        inputs[3]*weights3[3] + bias3] \n",
    " \n",
    "print(outputs) \n"
   ]
  },
  {
   "cell_type": "markdown",
   "id": "75955850-aaee-4a2b-94ef-2f8a8fe11c2f",
   "metadata": {},
   "source": [
    "In this code, we have three sets of weights and three biases, which define three neurons. Each neuron is **“connected”** to the same inputs. The difference is in the separate weights and bias that each neuron applies to the input. This is called a **fully connected neural network** every neuron in the current layer has connections to every neuron from the previous layer. **This is a very common type of neural network**, but it should be noted that there is no requirement to fully connect everything like this. At this point, we have only shown code for a single layer with very few neurons This would get very challenging to code using our current methods. Instead, we could use a loop to scale and handle dynamically-sized inputs and layers. We have turned the separate weight variables into a list of weights so we can iterate over them, and we changed the code to use loops instead of the hardcoded operations. "
   ]
  },
  {
   "cell_type": "code",
   "execution_count": 13,
   "id": "29257ba4-ab75-48a1-869c-710c1eab4409",
   "metadata": {},
   "outputs": [
    {
     "name": "stdout",
     "output_type": "stream",
     "text": [
      "[4.8, 1.21, 2.385]\n"
     ]
    }
   ],
   "source": [
    "\n",
    "inputs = [1, 2, 3, 2.5] \n",
    "\n",
    "weights = [[0.2, 0.8, -0.5, 1], \n",
    "           [0.5, -0.91, 0.26, -0.5], \n",
    "           [-0.26, -0.27, 0.17, 0.87]] \n",
    "\n",
    "biases = [2, 3, 0.5] \n",
    " \n",
    "# Output of current layer \n",
    "layer_outputs = [] \n",
    "\n",
    "# For each neuron \n",
    "for neuron_weights, neuron_bias in zip(weights, biases): \n",
    "    \n",
    "    # Zeroed output of given neuron \n",
    "    neuron_output = 0 \n",
    "    \n",
    "    # For each input and weight to the neuron \n",
    "    for n_input, weight in zip(inputs, neuron_weights): \n",
    "        \n",
    "        # Multiply this input by associated weight \n",
    "        # and add to the neuron’s output variable \n",
    "        neuron_output += n_input*weight \n",
    "        \n",
    "    # Add bias \n",
    "    neuron_output += neuron_bias \n",
    "    # Put neuron’s result to the layer’s output list \n",
    "    \n",
    "    layer_outputs.append(neuron_output) \n",
    " \n",
    "print(layer_outputs)\n"
   ]
  },
  {
   "cell_type": "markdown",
   "id": "78ee76ec-7fbc-4c14-98f7-9cc1db26a77b",
   "metadata": {},
   "source": [
    "***\n",
    "## ***Tensors, Arrays and Vectors***\n",
    "***"
   ]
  },
  {
   "cell_type": "markdown",
   "id": "68f6fc66-1c2f-4bbb-a04f-d2d8d1e68b92",
   "metadata": {},
   "source": [
    "#### **What are “tensors?”**\n",
    "\n",
    "Tensors are closely related to​ **arrays**. If you interchange **tensor**,**array**,**matrix** when it comes to machine learning, people probably will not give you too hard of a time. But there are subtle differences, and they are primarily either the context or attributes of the tensor object. To understand a tensor, compare and describe some of the other data containers in Python (things that hold data). \n",
    "\n",
    "Let’s start with a list. A Python list is defined by comma separated objects contained in brackets. So far, we have been using lists. "
   ]
  },
  {
   "cell_type": "code",
   "execution_count": 24,
   "id": "b9892989-4261-4675-9d5a-49d899b8fcba",
   "metadata": {},
   "outputs": [
    {
     "data": {
      "text/plain": [
       "[1, 5, 6, 2]"
      ]
     },
     "execution_count": 24,
     "metadata": {},
     "output_type": "execute_result"
    }
   ],
   "source": [
    "\n",
    "# This is an example of a simple list: \n",
    "l = [1,5,6,2] \n",
    "l\n"
   ]
  },
  {
   "cell_type": "code",
   "execution_count": 25,
   "id": "d9937a4c-8293-4164-97f8-17bc8f72a7a4",
   "metadata": {},
   "outputs": [
    {
     "data": {
      "text/plain": [
       "[[1, 5, 6, 2], [3, 2, 1, 3]]"
      ]
     },
     "execution_count": 25,
     "metadata": {},
     "output_type": "execute_result"
    }
   ],
   "source": [
    "\n",
    "# A list of lists: \n",
    "lol = [[1,5,6,2], [3,2,1,3]]\n",
    "lol\n"
   ]
  },
  {
   "cell_type": "code",
   "execution_count": 26,
   "id": "a2447bb0-d960-49fe-8265-2929748e1888",
   "metadata": {},
   "outputs": [
    {
     "data": {
      "text/plain": [
       "[[[1, 5, 6, 2], [3, 2, 1, 3]],\n",
       " [[5, 2, 1, 2], [6, 4, 8, 4]],\n",
       " [[2, 8, 5, 3], [1, 1, 9, 4]]]"
      ]
     },
     "execution_count": 26,
     "metadata": {},
     "output_type": "execute_result"
    }
   ],
   "source": [
    "\n",
    "# A list of lists of lists! \n",
    "lolol = [[[1,5,6,2], [3,2,1,3]], [[5,2,1,2], [6,4,8,4]], [[2,8,5,3], [1,1,9,4]]]\n",
    "lolol\n"
   ]
  },
  {
   "cell_type": "markdown",
   "id": "3a0fe067-50f6-482e-bb77-3bf9020d695b",
   "metadata": {},
   "source": [
    "Everything shown so far could also be an **array** or an **array representation** of a **tensor**.  **list** is just a list, and it can do pretty much whatever it wants, including: "
   ]
  },
  {
   "cell_type": "code",
   "execution_count": 27,
   "id": "54209258-201c-47f9-ab6e-229c674080e6",
   "metadata": {},
   "outputs": [
    {
     "data": {
      "text/plain": [
       "[[4, 2, 3], [5, 1]]"
      ]
     },
     "execution_count": 27,
     "metadata": {},
     "output_type": "execute_result"
    }
   ],
   "source": [
    "\n",
    "another_list_of_lists = [[4,2,3], [5,1]] \n",
    "another_list_of_lists\n"
   ]
  },
  {
   "cell_type": "markdown",
   "id": "ebceaeb1-d8b6-462d-aa9b-fbf8ac701e02",
   "metadata": {},
   "source": [
    "The above list of lists cannot be an **array** because it is not **homologous**. A list of lists is homologous if each list along a dimension is identically long, and this must be true for each dimension. In the case of the list shown above, it is a 2-dimensional list. The first dimension’s length is the number of sublists in the total list (2). The second dimension is the length of each of \n",
    "those sublists (3, then 2). In the above example, when reading across the **“row”** dimension (also called the second dimension), the first list is 3 elements long, and the second list is 2 elements long this is not homologous and, therefore, cannot be an array. While failing to be consistent in one dimension is enough to show that this example is not homologous, we could also read down the **“column”** dimension (the first dimension); the first two columns are 2 elements long while the third column only contains 1 element. \n",
    "\n",
    "Note that every dimension does not necessarily need to be the same length; it is perfectly acceptable to have an array with 4 rows and 3 columns"
   ]
  },
  {
   "cell_type": "markdown",
   "id": "b1da8885-672f-4871-b6c3-5e884c5afdf2",
   "metadata": {},
   "source": [
    "A **matrix** is pretty simple. It is a **rectangular array**. It has **columns and rows**. It is **two dimensional**. So a matrix can be an array (a 2D array). **Can all arrays be matrices?** No. An array can be far more than just columns and rows, as it could have four dimensions, twenty dimensions, and so on."
   ]
  },
  {
   "cell_type": "code",
   "execution_count": 28,
   "id": "5d6241a2-23ae-4954-8564-98c40621f652",
   "metadata": {},
   "outputs": [
    {
     "data": {
      "text/plain": [
       "[[4, 2], [5, 1], [8, 2]]"
      ]
     },
     "execution_count": 28,
     "metadata": {},
     "output_type": "execute_result"
    }
   ],
   "source": [
    "\n",
    "list_matrix_array = [[4,2], [5,1], [8,2]] \n",
    "list_matrix_array\n"
   ]
  },
  {
   "cell_type": "markdown",
   "id": "da7f4bcf-7612-4fc7-b277-e0db9258ad21",
   "metadata": {},
   "source": [
    "The above list could also be a valid matrix (because of its columns and rows), which automatically means it could also be an array. The **“shape”** of this array would be 3x2, or more formally described as a shape of (3, 2) ​as it has 3 rows and 2 columns. \n",
    "***"
   ]
  },
  {
   "cell_type": "markdown",
   "id": "2dd1c89e-e194-4175-aece-b3f374968607",
   "metadata": {},
   "source": [
    "#### **Finally, what is a tensor?** \n",
    "When it comes to the discussion of tensors versus arrays in the context of computer science, pages and pages of debate have ensued. This intense debate appears to be caused by the fact that people are arguing from entirely different places. There is no question that a tensor is not just an array, but the real question is: **“What is a tensor, to a computer scientist, in the context of deep learning?”**\n"
   ]
  },
  {
   "cell_type": "markdown",
   "id": "f3d71253-68fc-4334-9b9a-bc2b4dcfcff0",
   "metadata": {},
   "source": [
    "**A tensor object is an object that can be represented as an array.**"
   ]
  },
  {
   "cell_type": "markdown",
   "id": "a3213f36-148c-47c3-a5fb-77bbcf63cb3e",
   "metadata": {},
   "source": [
    "What this means is, as programmers, we can (and will) treat tensors as arrays in the context of deep learning, and that is really all the thought we have to put into it. **Are all tensors just​ arrays?** No, but they are represented as arrays in our code, so, to us, they are only arrays, and this is why there’s so much argument and confusion.\n",
    "***"
   ]
  },
  {
   "cell_type": "markdown",
   "id": "79bb9a4a-5e73-4cdf-89aa-da92f2e65b60",
   "metadata": {},
   "source": [
    "#### **Now, what is an array?**\n",
    "We define an array as an ordered homologous container for numbers, and mostly use this term when working with the NumPy package since that is what the main data structure is called within it. A linear array, also called a 1-dimensional array, is the simplest example of an array, and in plain Python, this would be a list. Arrays can also consist of multi-dimensional data, and one of the best-known examples is what we call a matrix in mathematics, which we will represent as a 2-dimensional array. Each element of the array can be \n",
    "accessed using a tuple of indices as a key, which means that we can retrieve any array element.\n",
    "***"
   ]
  },
  {
   "cell_type": "markdown",
   "id": "8fd31097-18b3-498e-a2f1-d31b6f9ac561",
   "metadata": {},
   "source": [
    "#### **Lastly, what is a vector?**\n",
    "A vector in math is what we call a list in Python or a 1-dimensional array in NumPy. Of course, lists and NumPy arrays do not have \n",
    "the same properties as a vector, but, just as we can write a matrix as a list of lists in Python, we can also write a vector as a list or an array! Additionally, we will look at the vector algebraically (mathematically) as a set of numbers in brackets. This is in contrast to the physics perspective, where the vector’s representation is usually seen as an arrow, characterized by a magnitude and \n",
    "a direction. \n",
    "***"
   ]
  },
  {
   "cell_type": "code",
   "execution_count": null,
   "id": "2840e00e-1c56-4864-b3ad-22afbc948cdd",
   "metadata": {},
   "outputs": [],
   "source": []
  }
 ],
 "metadata": {
  "kernelspec": {
   "display_name": "Python 3 (ipykernel)",
   "language": "python",
   "name": "python3"
  },
  "language_info": {
   "codemirror_mode": {
    "name": "ipython",
    "version": 3
   },
   "file_extension": ".py",
   "mimetype": "text/x-python",
   "name": "python",
   "nbconvert_exporter": "python",
   "pygments_lexer": "ipython3",
   "version": "3.11.7"
  },
  "widgets": {
   "application/vnd.jupyter.widget-state+json": {
    "state": {},
    "version_major": 2,
    "version_minor": 0
   }
  }
 },
 "nbformat": 4,
 "nbformat_minor": 5
}
